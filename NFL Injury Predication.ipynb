{
  "nbformat": 4,
  "nbformat_minor": 0,
  "metadata": {
    "colab": {
      "provenance": [],
      "gpuType": "T4",
      "machine_shape": "hm"
    },
    "kernelspec": {
      "name": "python3",
      "display_name": "Python 3"
    },
    "language_info": {
      "name": "python"
    },
    "accelerator": "GPU"
  },
  "cells": [
    {
      "cell_type": "code",
      "source": [
        "pip install keras-tuner"
      ],
      "metadata": {
        "colab": {
          "base_uri": "https://localhost:8080/"
        },
        "id": "-EC_p1RFGuU8",
        "outputId": "816c99e5-307c-480f-fc1e-3f2ba84a6cdc"
      },
      "execution_count": null,
      "outputs": [
        {
          "output_type": "stream",
          "name": "stdout",
          "text": [
            "Collecting keras-tuner\n",
            "  Downloading keras_tuner-1.4.6-py3-none-any.whl (128 kB)\n",
            "\u001b[?25l     \u001b[90m━━━━━━━━━━━━━━━━━━━━━━━━━━━━━━━━━━━━━━━━\u001b[0m \u001b[32m0.0/128.9 kB\u001b[0m \u001b[31m?\u001b[0m eta \u001b[36m-:--:--\u001b[0m\r\u001b[2K     \u001b[91m━━━━━━━━━━━━━━━━━━━━━━━━━━━━━━━━━━━━━━\u001b[0m\u001b[90m╺\u001b[0m\u001b[90m━\u001b[0m \u001b[32m122.9/128.9 kB\u001b[0m \u001b[31m4.3 MB/s\u001b[0m eta \u001b[36m0:00:01\u001b[0m\r\u001b[2K     \u001b[90m━━━━━━━━━━━━━━━━━━━━━━━━━━━━━━━━━━━━━━━━\u001b[0m \u001b[32m128.9/128.9 kB\u001b[0m \u001b[31m3.3 MB/s\u001b[0m eta \u001b[36m0:00:00\u001b[0m\n",
            "\u001b[?25hRequirement already satisfied: keras in /usr/local/lib/python3.10/dist-packages (from keras-tuner) (2.15.0)\n",
            "Requirement already satisfied: packaging in /usr/local/lib/python3.10/dist-packages (from keras-tuner) (23.2)\n",
            "Requirement already satisfied: requests in /usr/local/lib/python3.10/dist-packages (from keras-tuner) (2.31.0)\n",
            "Collecting kt-legacy (from keras-tuner)\n",
            "  Downloading kt_legacy-1.0.5-py3-none-any.whl (9.6 kB)\n",
            "Requirement already satisfied: charset-normalizer<4,>=2 in /usr/local/lib/python3.10/dist-packages (from requests->keras-tuner) (3.3.2)\n",
            "Requirement already satisfied: idna<4,>=2.5 in /usr/local/lib/python3.10/dist-packages (from requests->keras-tuner) (3.6)\n",
            "Requirement already satisfied: urllib3<3,>=1.21.1 in /usr/local/lib/python3.10/dist-packages (from requests->keras-tuner) (2.0.7)\n",
            "Requirement already satisfied: certifi>=2017.4.17 in /usr/local/lib/python3.10/dist-packages (from requests->keras-tuner) (2023.11.17)\n",
            "Installing collected packages: kt-legacy, keras-tuner\n",
            "Successfully installed keras-tuner-1.4.6 kt-legacy-1.0.5\n"
          ]
        }
      ]
    },
    {
      "cell_type": "code",
      "execution_count": null,
      "metadata": {
        "colab": {
          "base_uri": "https://localhost:8080/"
        },
        "id": "oI12aWhZuaoL",
        "outputId": "cd2c19cc-0773-4868-cf12-728e25faeb47"
      },
      "outputs": [
        {
          "output_type": "stream",
          "name": "stderr",
          "text": [
            "<ipython-input-2-6b1b41eb39eb>:8: DeprecationWarning: `import kerastuner` is deprecated, please use `import keras_tuner`.\n",
            "  from kerastuner import RandomSearch, HyperParameters,BayesianOptimization\n"
          ]
        }
      ],
      "source": [
        "import pandas as pd\n",
        "from fastai.tabular.core import Categorify,TabularPandas\n",
        "import numpy as np\n",
        "from tensorflow.keras.preprocessing.sequence import pad_sequences\n",
        "from tensorflow import keras\n",
        "from tensorflow.keras import layers\n",
        "import matplotlib.pyplot as plt\n",
        "from kerastuner import RandomSearch, HyperParameters,BayesianOptimization"
      ]
    },
    {
      "cell_type": "code",
      "source": [
        "injury_df = pd.read_csv('/content/drive/MyDrive/AD799 Final/InjuryRecord.csv')\n",
        "play_df = pd.read_csv('/content/drive/MyDrive/AD799 Final/PlayList.csv')\n",
        "#player_track_df = pd.read_csv('/content/drive/MyDrive/AD799 Final/PlayerTrackData.csv')"
      ],
      "metadata": {
        "id": "ufPA_hzzumut"
      },
      "execution_count": null,
      "outputs": []
    },
    {
      "cell_type": "code",
      "source": [
        "player_track_df = pd.read_csv('/content/drive/MyDrive/AD799 Final/PlayerTrackData.csv')"
      ],
      "metadata": {
        "id": "jN39QcuGl-Cb"
      },
      "execution_count": null,
      "outputs": []
    },
    {
      "cell_type": "code",
      "source": [
        "player_track_df.head()"
      ],
      "metadata": {
        "colab": {
          "base_uri": "https://localhost:8080/",
          "height": 206
        },
        "id": "OUw1fd3hyfED",
        "outputId": "e9a7bb84-806b-452d-a0ca-1f440e84c34b"
      },
      "execution_count": null,
      "outputs": [
        {
          "output_type": "execute_result",
          "data": {
            "text/plain": [
              "     PlayKey  time                 event      x      y     dir   dis       o  \\\n",
              "0  26624-1-1   0.0  huddle_start_offense  87.46  28.93  288.24  0.01  262.33   \n",
              "1  26624-1-1   0.1                   NaN  87.45  28.92  283.91  0.01  261.69   \n",
              "2  26624-1-1   0.2                   NaN  87.44  28.92  280.40  0.01  261.17   \n",
              "3  26624-1-1   0.3                   NaN  87.44  28.92  278.79  0.01  260.66   \n",
              "4  26624-1-1   0.4                   NaN  87.44  28.92  275.44  0.01  260.27   \n",
              "\n",
              "      s  \n",
              "0  0.13  \n",
              "1  0.12  \n",
              "2  0.12  \n",
              "3  0.10  \n",
              "4  0.09  "
            ],
            "text/html": [
              "\n",
              "  <div id=\"df-66f853bf-0ff9-4575-86b2-65c32f927259\" class=\"colab-df-container\">\n",
              "    <div>\n",
              "<style scoped>\n",
              "    .dataframe tbody tr th:only-of-type {\n",
              "        vertical-align: middle;\n",
              "    }\n",
              "\n",
              "    .dataframe tbody tr th {\n",
              "        vertical-align: top;\n",
              "    }\n",
              "\n",
              "    .dataframe thead th {\n",
              "        text-align: right;\n",
              "    }\n",
              "</style>\n",
              "<table border=\"1\" class=\"dataframe\">\n",
              "  <thead>\n",
              "    <tr style=\"text-align: right;\">\n",
              "      <th></th>\n",
              "      <th>PlayKey</th>\n",
              "      <th>time</th>\n",
              "      <th>event</th>\n",
              "      <th>x</th>\n",
              "      <th>y</th>\n",
              "      <th>dir</th>\n",
              "      <th>dis</th>\n",
              "      <th>o</th>\n",
              "      <th>s</th>\n",
              "    </tr>\n",
              "  </thead>\n",
              "  <tbody>\n",
              "    <tr>\n",
              "      <th>0</th>\n",
              "      <td>26624-1-1</td>\n",
              "      <td>0.0</td>\n",
              "      <td>huddle_start_offense</td>\n",
              "      <td>87.46</td>\n",
              "      <td>28.93</td>\n",
              "      <td>288.24</td>\n",
              "      <td>0.01</td>\n",
              "      <td>262.33</td>\n",
              "      <td>0.13</td>\n",
              "    </tr>\n",
              "    <tr>\n",
              "      <th>1</th>\n",
              "      <td>26624-1-1</td>\n",
              "      <td>0.1</td>\n",
              "      <td>NaN</td>\n",
              "      <td>87.45</td>\n",
              "      <td>28.92</td>\n",
              "      <td>283.91</td>\n",
              "      <td>0.01</td>\n",
              "      <td>261.69</td>\n",
              "      <td>0.12</td>\n",
              "    </tr>\n",
              "    <tr>\n",
              "      <th>2</th>\n",
              "      <td>26624-1-1</td>\n",
              "      <td>0.2</td>\n",
              "      <td>NaN</td>\n",
              "      <td>87.44</td>\n",
              "      <td>28.92</td>\n",
              "      <td>280.40</td>\n",
              "      <td>0.01</td>\n",
              "      <td>261.17</td>\n",
              "      <td>0.12</td>\n",
              "    </tr>\n",
              "    <tr>\n",
              "      <th>3</th>\n",
              "      <td>26624-1-1</td>\n",
              "      <td>0.3</td>\n",
              "      <td>NaN</td>\n",
              "      <td>87.44</td>\n",
              "      <td>28.92</td>\n",
              "      <td>278.79</td>\n",
              "      <td>0.01</td>\n",
              "      <td>260.66</td>\n",
              "      <td>0.10</td>\n",
              "    </tr>\n",
              "    <tr>\n",
              "      <th>4</th>\n",
              "      <td>26624-1-1</td>\n",
              "      <td>0.4</td>\n",
              "      <td>NaN</td>\n",
              "      <td>87.44</td>\n",
              "      <td>28.92</td>\n",
              "      <td>275.44</td>\n",
              "      <td>0.01</td>\n",
              "      <td>260.27</td>\n",
              "      <td>0.09</td>\n",
              "    </tr>\n",
              "  </tbody>\n",
              "</table>\n",
              "</div>\n",
              "    <div class=\"colab-df-buttons\">\n",
              "\n",
              "  <div class=\"colab-df-container\">\n",
              "    <button class=\"colab-df-convert\" onclick=\"convertToInteractive('df-66f853bf-0ff9-4575-86b2-65c32f927259')\"\n",
              "            title=\"Convert this dataframe to an interactive table.\"\n",
              "            style=\"display:none;\">\n",
              "\n",
              "  <svg xmlns=\"http://www.w3.org/2000/svg\" height=\"24px\" viewBox=\"0 -960 960 960\">\n",
              "    <path d=\"M120-120v-720h720v720H120Zm60-500h600v-160H180v160Zm220 220h160v-160H400v160Zm0 220h160v-160H400v160ZM180-400h160v-160H180v160Zm440 0h160v-160H620v160ZM180-180h160v-160H180v160Zm440 0h160v-160H620v160Z\"/>\n",
              "  </svg>\n",
              "    </button>\n",
              "\n",
              "  <style>\n",
              "    .colab-df-container {\n",
              "      display:flex;\n",
              "      gap: 12px;\n",
              "    }\n",
              "\n",
              "    .colab-df-convert {\n",
              "      background-color: #E8F0FE;\n",
              "      border: none;\n",
              "      border-radius: 50%;\n",
              "      cursor: pointer;\n",
              "      display: none;\n",
              "      fill: #1967D2;\n",
              "      height: 32px;\n",
              "      padding: 0 0 0 0;\n",
              "      width: 32px;\n",
              "    }\n",
              "\n",
              "    .colab-df-convert:hover {\n",
              "      background-color: #E2EBFA;\n",
              "      box-shadow: 0px 1px 2px rgba(60, 64, 67, 0.3), 0px 1px 3px 1px rgba(60, 64, 67, 0.15);\n",
              "      fill: #174EA6;\n",
              "    }\n",
              "\n",
              "    .colab-df-buttons div {\n",
              "      margin-bottom: 4px;\n",
              "    }\n",
              "\n",
              "    [theme=dark] .colab-df-convert {\n",
              "      background-color: #3B4455;\n",
              "      fill: #D2E3FC;\n",
              "    }\n",
              "\n",
              "    [theme=dark] .colab-df-convert:hover {\n",
              "      background-color: #434B5C;\n",
              "      box-shadow: 0px 1px 3px 1px rgba(0, 0, 0, 0.15);\n",
              "      filter: drop-shadow(0px 1px 2px rgba(0, 0, 0, 0.3));\n",
              "      fill: #FFFFFF;\n",
              "    }\n",
              "  </style>\n",
              "\n",
              "    <script>\n",
              "      const buttonEl =\n",
              "        document.querySelector('#df-66f853bf-0ff9-4575-86b2-65c32f927259 button.colab-df-convert');\n",
              "      buttonEl.style.display =\n",
              "        google.colab.kernel.accessAllowed ? 'block' : 'none';\n",
              "\n",
              "      async function convertToInteractive(key) {\n",
              "        const element = document.querySelector('#df-66f853bf-0ff9-4575-86b2-65c32f927259');\n",
              "        const dataTable =\n",
              "          await google.colab.kernel.invokeFunction('convertToInteractive',\n",
              "                                                    [key], {});\n",
              "        if (!dataTable) return;\n",
              "\n",
              "        const docLinkHtml = 'Like what you see? Visit the ' +\n",
              "          '<a target=\"_blank\" href=https://colab.research.google.com/notebooks/data_table.ipynb>data table notebook</a>'\n",
              "          + ' to learn more about interactive tables.';\n",
              "        element.innerHTML = '';\n",
              "        dataTable['output_type'] = 'display_data';\n",
              "        await google.colab.output.renderOutput(dataTable, element);\n",
              "        const docLink = document.createElement('div');\n",
              "        docLink.innerHTML = docLinkHtml;\n",
              "        element.appendChild(docLink);\n",
              "      }\n",
              "    </script>\n",
              "  </div>\n",
              "\n",
              "\n",
              "<div id=\"df-3eed946e-bee7-4df0-86bb-fb741096039b\">\n",
              "  <button class=\"colab-df-quickchart\" onclick=\"quickchart('df-3eed946e-bee7-4df0-86bb-fb741096039b')\"\n",
              "            title=\"Suggest charts\"\n",
              "            style=\"display:none;\">\n",
              "\n",
              "<svg xmlns=\"http://www.w3.org/2000/svg\" height=\"24px\"viewBox=\"0 0 24 24\"\n",
              "     width=\"24px\">\n",
              "    <g>\n",
              "        <path d=\"M19 3H5c-1.1 0-2 .9-2 2v14c0 1.1.9 2 2 2h14c1.1 0 2-.9 2-2V5c0-1.1-.9-2-2-2zM9 17H7v-7h2v7zm4 0h-2V7h2v10zm4 0h-2v-4h2v4z\"/>\n",
              "    </g>\n",
              "</svg>\n",
              "  </button>\n",
              "\n",
              "<style>\n",
              "  .colab-df-quickchart {\n",
              "      --bg-color: #E8F0FE;\n",
              "      --fill-color: #1967D2;\n",
              "      --hover-bg-color: #E2EBFA;\n",
              "      --hover-fill-color: #174EA6;\n",
              "      --disabled-fill-color: #AAA;\n",
              "      --disabled-bg-color: #DDD;\n",
              "  }\n",
              "\n",
              "  [theme=dark] .colab-df-quickchart {\n",
              "      --bg-color: #3B4455;\n",
              "      --fill-color: #D2E3FC;\n",
              "      --hover-bg-color: #434B5C;\n",
              "      --hover-fill-color: #FFFFFF;\n",
              "      --disabled-bg-color: #3B4455;\n",
              "      --disabled-fill-color: #666;\n",
              "  }\n",
              "\n",
              "  .colab-df-quickchart {\n",
              "    background-color: var(--bg-color);\n",
              "    border: none;\n",
              "    border-radius: 50%;\n",
              "    cursor: pointer;\n",
              "    display: none;\n",
              "    fill: var(--fill-color);\n",
              "    height: 32px;\n",
              "    padding: 0;\n",
              "    width: 32px;\n",
              "  }\n",
              "\n",
              "  .colab-df-quickchart:hover {\n",
              "    background-color: var(--hover-bg-color);\n",
              "    box-shadow: 0 1px 2px rgba(60, 64, 67, 0.3), 0 1px 3px 1px rgba(60, 64, 67, 0.15);\n",
              "    fill: var(--button-hover-fill-color);\n",
              "  }\n",
              "\n",
              "  .colab-df-quickchart-complete:disabled,\n",
              "  .colab-df-quickchart-complete:disabled:hover {\n",
              "    background-color: var(--disabled-bg-color);\n",
              "    fill: var(--disabled-fill-color);\n",
              "    box-shadow: none;\n",
              "  }\n",
              "\n",
              "  .colab-df-spinner {\n",
              "    border: 2px solid var(--fill-color);\n",
              "    border-color: transparent;\n",
              "    border-bottom-color: var(--fill-color);\n",
              "    animation:\n",
              "      spin 1s steps(1) infinite;\n",
              "  }\n",
              "\n",
              "  @keyframes spin {\n",
              "    0% {\n",
              "      border-color: transparent;\n",
              "      border-bottom-color: var(--fill-color);\n",
              "      border-left-color: var(--fill-color);\n",
              "    }\n",
              "    20% {\n",
              "      border-color: transparent;\n",
              "      border-left-color: var(--fill-color);\n",
              "      border-top-color: var(--fill-color);\n",
              "    }\n",
              "    30% {\n",
              "      border-color: transparent;\n",
              "      border-left-color: var(--fill-color);\n",
              "      border-top-color: var(--fill-color);\n",
              "      border-right-color: var(--fill-color);\n",
              "    }\n",
              "    40% {\n",
              "      border-color: transparent;\n",
              "      border-right-color: var(--fill-color);\n",
              "      border-top-color: var(--fill-color);\n",
              "    }\n",
              "    60% {\n",
              "      border-color: transparent;\n",
              "      border-right-color: var(--fill-color);\n",
              "    }\n",
              "    80% {\n",
              "      border-color: transparent;\n",
              "      border-right-color: var(--fill-color);\n",
              "      border-bottom-color: var(--fill-color);\n",
              "    }\n",
              "    90% {\n",
              "      border-color: transparent;\n",
              "      border-bottom-color: var(--fill-color);\n",
              "    }\n",
              "  }\n",
              "</style>\n",
              "\n",
              "  <script>\n",
              "    async function quickchart(key) {\n",
              "      const quickchartButtonEl =\n",
              "        document.querySelector('#' + key + ' button');\n",
              "      quickchartButtonEl.disabled = true;  // To prevent multiple clicks.\n",
              "      quickchartButtonEl.classList.add('colab-df-spinner');\n",
              "      try {\n",
              "        const charts = await google.colab.kernel.invokeFunction(\n",
              "            'suggestCharts', [key], {});\n",
              "      } catch (error) {\n",
              "        console.error('Error during call to suggestCharts:', error);\n",
              "      }\n",
              "      quickchartButtonEl.classList.remove('colab-df-spinner');\n",
              "      quickchartButtonEl.classList.add('colab-df-quickchart-complete');\n",
              "    }\n",
              "    (() => {\n",
              "      let quickchartButtonEl =\n",
              "        document.querySelector('#df-3eed946e-bee7-4df0-86bb-fb741096039b button');\n",
              "      quickchartButtonEl.style.display =\n",
              "        google.colab.kernel.accessAllowed ? 'block' : 'none';\n",
              "    })();\n",
              "  </script>\n",
              "</div>\n",
              "    </div>\n",
              "  </div>\n"
            ]
          },
          "metadata": {},
          "execution_count": 5
        }
      ]
    },
    {
      "cell_type": "code",
      "source": [
        "play_df.Temperature.value_counts()"
      ],
      "metadata": {
        "colab": {
          "base_uri": "https://localhost:8080/"
        },
        "id": "qpcSQ6UGzXJF",
        "outputId": "e775b7ac-1f60-4219-ece2-54fd7622b459"
      },
      "execution_count": null,
      "outputs": [
        {
          "output_type": "execute_result",
          "data": {
            "text/plain": [
              "-999    24170\n",
              " 68     14127\n",
              " 72      6970\n",
              " 61      6744\n",
              " 71      6261\n",
              "        ...  \n",
              " 34       418\n",
              " 32       383\n",
              " 10       292\n",
              " 26       243\n",
              " 9        210\n",
              "Name: Temperature, Length: 79, dtype: int64"
            ]
          },
          "metadata": {},
          "execution_count": 6
        }
      ]
    },
    {
      "cell_type": "code",
      "source": [
        "play_df.isna().sum()"
      ],
      "metadata": {
        "colab": {
          "base_uri": "https://localhost:8080/"
        },
        "id": "3Dm6-uGtIPij",
        "outputId": "5773c2c1-83b8-48b9-f3ed-bee25ee1131f"
      },
      "execution_count": null,
      "outputs": [
        {
          "output_type": "execute_result",
          "data": {
            "text/plain": [
              "PlayerKey             0\n",
              "GameID                0\n",
              "PlayKey               0\n",
              "RosterPosition        0\n",
              "PlayerDay             0\n",
              "PlayerGame            0\n",
              "StadiumType       16910\n",
              "FieldType             0\n",
              "Temperature           0\n",
              "Weather           18691\n",
              "PlayType            367\n",
              "PlayerGamePlay        0\n",
              "Position              0\n",
              "PositionGroup         0\n",
              "dtype: int64"
            ]
          },
          "metadata": {},
          "execution_count": 7
        }
      ]
    },
    {
      "cell_type": "code",
      "source": [
        "player_track_df.isna().sum()"
      ],
      "metadata": {
        "id": "NeQ0w05MIUzp"
      },
      "execution_count": null,
      "outputs": []
    },
    {
      "cell_type": "code",
      "source": [
        "injury_df.isna().sum()"
      ],
      "metadata": {
        "id": "Le46V1eNIfjN"
      },
      "execution_count": null,
      "outputs": []
    },
    {
      "cell_type": "code",
      "source": [
        "target_df = play_df[['PlayerKey','PlayKey','StadiumType', 'FieldType', 'Weather', 'PlayType', 'PositionGroup', ]]"
      ],
      "metadata": {
        "id": "JnqL0Vrmum7c"
      },
      "execution_count": null,
      "outputs": []
    },
    {
      "cell_type": "code",
      "source": [
        "target_df"
      ],
      "metadata": {
        "colab": {
          "base_uri": "https://localhost:8080/",
          "height": 424
        },
        "id": "-FS-Jv3JnIqV",
        "outputId": "29dd5d9f-06d7-41df-af58-3133baee71da"
      },
      "execution_count": null,
      "outputs": [
        {
          "output_type": "execute_result",
          "data": {
            "text/plain": [
              "        PlayerKey      PlayKey StadiumType  FieldType         Weather  \\\n",
              "0           26624    26624-1-1     Outdoor  Synthetic  Clear and warm   \n",
              "1           26624    26624-1-2     Outdoor  Synthetic  Clear and warm   \n",
              "2           26624    26624-1-3     Outdoor  Synthetic  Clear and warm   \n",
              "3           26624    26624-1-4     Outdoor  Synthetic  Clear and warm   \n",
              "4           26624    26624-1-5     Outdoor  Synthetic  Clear and warm   \n",
              "...           ...          ...         ...        ...             ...   \n",
              "267000      47888  47888-13-51     Outdoor  Synthetic  Sunny and cold   \n",
              "267001      47888  47888-13-52     Outdoor  Synthetic  Sunny and cold   \n",
              "267002      47888  47888-13-53     Outdoor  Synthetic  Sunny and cold   \n",
              "267003      47888  47888-13-54     Outdoor  Synthetic  Sunny and cold   \n",
              "267004      47888  47888-13-55     Outdoor  Synthetic  Sunny and cold   \n",
              "\n",
              "       PlayType PositionGroup  \n",
              "0          Pass            QB  \n",
              "1          Pass            QB  \n",
              "2          Rush            QB  \n",
              "3          Rush            QB  \n",
              "4          Pass            QB  \n",
              "...         ...           ...  \n",
              "267000     Pass            DB  \n",
              "267001     Pass            DB  \n",
              "267002     Pass            DB  \n",
              "267003     Pass            DB  \n",
              "267004     Rush            DB  \n",
              "\n",
              "[267005 rows x 7 columns]"
            ],
            "text/html": [
              "\n",
              "  <div id=\"df-c4fe0a3d-d5bb-4e3b-9940-14a5ebdb2869\" class=\"colab-df-container\">\n",
              "    <div>\n",
              "<style scoped>\n",
              "    .dataframe tbody tr th:only-of-type {\n",
              "        vertical-align: middle;\n",
              "    }\n",
              "\n",
              "    .dataframe tbody tr th {\n",
              "        vertical-align: top;\n",
              "    }\n",
              "\n",
              "    .dataframe thead th {\n",
              "        text-align: right;\n",
              "    }\n",
              "</style>\n",
              "<table border=\"1\" class=\"dataframe\">\n",
              "  <thead>\n",
              "    <tr style=\"text-align: right;\">\n",
              "      <th></th>\n",
              "      <th>PlayerKey</th>\n",
              "      <th>PlayKey</th>\n",
              "      <th>StadiumType</th>\n",
              "      <th>FieldType</th>\n",
              "      <th>Weather</th>\n",
              "      <th>PlayType</th>\n",
              "      <th>PositionGroup</th>\n",
              "    </tr>\n",
              "  </thead>\n",
              "  <tbody>\n",
              "    <tr>\n",
              "      <th>0</th>\n",
              "      <td>26624</td>\n",
              "      <td>26624-1-1</td>\n",
              "      <td>Outdoor</td>\n",
              "      <td>Synthetic</td>\n",
              "      <td>Clear and warm</td>\n",
              "      <td>Pass</td>\n",
              "      <td>QB</td>\n",
              "    </tr>\n",
              "    <tr>\n",
              "      <th>1</th>\n",
              "      <td>26624</td>\n",
              "      <td>26624-1-2</td>\n",
              "      <td>Outdoor</td>\n",
              "      <td>Synthetic</td>\n",
              "      <td>Clear and warm</td>\n",
              "      <td>Pass</td>\n",
              "      <td>QB</td>\n",
              "    </tr>\n",
              "    <tr>\n",
              "      <th>2</th>\n",
              "      <td>26624</td>\n",
              "      <td>26624-1-3</td>\n",
              "      <td>Outdoor</td>\n",
              "      <td>Synthetic</td>\n",
              "      <td>Clear and warm</td>\n",
              "      <td>Rush</td>\n",
              "      <td>QB</td>\n",
              "    </tr>\n",
              "    <tr>\n",
              "      <th>3</th>\n",
              "      <td>26624</td>\n",
              "      <td>26624-1-4</td>\n",
              "      <td>Outdoor</td>\n",
              "      <td>Synthetic</td>\n",
              "      <td>Clear and warm</td>\n",
              "      <td>Rush</td>\n",
              "      <td>QB</td>\n",
              "    </tr>\n",
              "    <tr>\n",
              "      <th>4</th>\n",
              "      <td>26624</td>\n",
              "      <td>26624-1-5</td>\n",
              "      <td>Outdoor</td>\n",
              "      <td>Synthetic</td>\n",
              "      <td>Clear and warm</td>\n",
              "      <td>Pass</td>\n",
              "      <td>QB</td>\n",
              "    </tr>\n",
              "    <tr>\n",
              "      <th>...</th>\n",
              "      <td>...</td>\n",
              "      <td>...</td>\n",
              "      <td>...</td>\n",
              "      <td>...</td>\n",
              "      <td>...</td>\n",
              "      <td>...</td>\n",
              "      <td>...</td>\n",
              "    </tr>\n",
              "    <tr>\n",
              "      <th>267000</th>\n",
              "      <td>47888</td>\n",
              "      <td>47888-13-51</td>\n",
              "      <td>Outdoor</td>\n",
              "      <td>Synthetic</td>\n",
              "      <td>Sunny and cold</td>\n",
              "      <td>Pass</td>\n",
              "      <td>DB</td>\n",
              "    </tr>\n",
              "    <tr>\n",
              "      <th>267001</th>\n",
              "      <td>47888</td>\n",
              "      <td>47888-13-52</td>\n",
              "      <td>Outdoor</td>\n",
              "      <td>Synthetic</td>\n",
              "      <td>Sunny and cold</td>\n",
              "      <td>Pass</td>\n",
              "      <td>DB</td>\n",
              "    </tr>\n",
              "    <tr>\n",
              "      <th>267002</th>\n",
              "      <td>47888</td>\n",
              "      <td>47888-13-53</td>\n",
              "      <td>Outdoor</td>\n",
              "      <td>Synthetic</td>\n",
              "      <td>Sunny and cold</td>\n",
              "      <td>Pass</td>\n",
              "      <td>DB</td>\n",
              "    </tr>\n",
              "    <tr>\n",
              "      <th>267003</th>\n",
              "      <td>47888</td>\n",
              "      <td>47888-13-54</td>\n",
              "      <td>Outdoor</td>\n",
              "      <td>Synthetic</td>\n",
              "      <td>Sunny and cold</td>\n",
              "      <td>Pass</td>\n",
              "      <td>DB</td>\n",
              "    </tr>\n",
              "    <tr>\n",
              "      <th>267004</th>\n",
              "      <td>47888</td>\n",
              "      <td>47888-13-55</td>\n",
              "      <td>Outdoor</td>\n",
              "      <td>Synthetic</td>\n",
              "      <td>Sunny and cold</td>\n",
              "      <td>Rush</td>\n",
              "      <td>DB</td>\n",
              "    </tr>\n",
              "  </tbody>\n",
              "</table>\n",
              "<p>267005 rows × 7 columns</p>\n",
              "</div>\n",
              "    <div class=\"colab-df-buttons\">\n",
              "\n",
              "  <div class=\"colab-df-container\">\n",
              "    <button class=\"colab-df-convert\" onclick=\"convertToInteractive('df-c4fe0a3d-d5bb-4e3b-9940-14a5ebdb2869')\"\n",
              "            title=\"Convert this dataframe to an interactive table.\"\n",
              "            style=\"display:none;\">\n",
              "\n",
              "  <svg xmlns=\"http://www.w3.org/2000/svg\" height=\"24px\" viewBox=\"0 -960 960 960\">\n",
              "    <path d=\"M120-120v-720h720v720H120Zm60-500h600v-160H180v160Zm220 220h160v-160H400v160Zm0 220h160v-160H400v160ZM180-400h160v-160H180v160Zm440 0h160v-160H620v160ZM180-180h160v-160H180v160Zm440 0h160v-160H620v160Z\"/>\n",
              "  </svg>\n",
              "    </button>\n",
              "\n",
              "  <style>\n",
              "    .colab-df-container {\n",
              "      display:flex;\n",
              "      gap: 12px;\n",
              "    }\n",
              "\n",
              "    .colab-df-convert {\n",
              "      background-color: #E8F0FE;\n",
              "      border: none;\n",
              "      border-radius: 50%;\n",
              "      cursor: pointer;\n",
              "      display: none;\n",
              "      fill: #1967D2;\n",
              "      height: 32px;\n",
              "      padding: 0 0 0 0;\n",
              "      width: 32px;\n",
              "    }\n",
              "\n",
              "    .colab-df-convert:hover {\n",
              "      background-color: #E2EBFA;\n",
              "      box-shadow: 0px 1px 2px rgba(60, 64, 67, 0.3), 0px 1px 3px 1px rgba(60, 64, 67, 0.15);\n",
              "      fill: #174EA6;\n",
              "    }\n",
              "\n",
              "    .colab-df-buttons div {\n",
              "      margin-bottom: 4px;\n",
              "    }\n",
              "\n",
              "    [theme=dark] .colab-df-convert {\n",
              "      background-color: #3B4455;\n",
              "      fill: #D2E3FC;\n",
              "    }\n",
              "\n",
              "    [theme=dark] .colab-df-convert:hover {\n",
              "      background-color: #434B5C;\n",
              "      box-shadow: 0px 1px 3px 1px rgba(0, 0, 0, 0.15);\n",
              "      filter: drop-shadow(0px 1px 2px rgba(0, 0, 0, 0.3));\n",
              "      fill: #FFFFFF;\n",
              "    }\n",
              "  </style>\n",
              "\n",
              "    <script>\n",
              "      const buttonEl =\n",
              "        document.querySelector('#df-c4fe0a3d-d5bb-4e3b-9940-14a5ebdb2869 button.colab-df-convert');\n",
              "      buttonEl.style.display =\n",
              "        google.colab.kernel.accessAllowed ? 'block' : 'none';\n",
              "\n",
              "      async function convertToInteractive(key) {\n",
              "        const element = document.querySelector('#df-c4fe0a3d-d5bb-4e3b-9940-14a5ebdb2869');\n",
              "        const dataTable =\n",
              "          await google.colab.kernel.invokeFunction('convertToInteractive',\n",
              "                                                    [key], {});\n",
              "        if (!dataTable) return;\n",
              "\n",
              "        const docLinkHtml = 'Like what you see? Visit the ' +\n",
              "          '<a target=\"_blank\" href=https://colab.research.google.com/notebooks/data_table.ipynb>data table notebook</a>'\n",
              "          + ' to learn more about interactive tables.';\n",
              "        element.innerHTML = '';\n",
              "        dataTable['output_type'] = 'display_data';\n",
              "        await google.colab.output.renderOutput(dataTable, element);\n",
              "        const docLink = document.createElement('div');\n",
              "        docLink.innerHTML = docLinkHtml;\n",
              "        element.appendChild(docLink);\n",
              "      }\n",
              "    </script>\n",
              "  </div>\n",
              "\n",
              "\n",
              "<div id=\"df-1359007d-79b1-4599-9dac-8bfec2e98695\">\n",
              "  <button class=\"colab-df-quickchart\" onclick=\"quickchart('df-1359007d-79b1-4599-9dac-8bfec2e98695')\"\n",
              "            title=\"Suggest charts\"\n",
              "            style=\"display:none;\">\n",
              "\n",
              "<svg xmlns=\"http://www.w3.org/2000/svg\" height=\"24px\"viewBox=\"0 0 24 24\"\n",
              "     width=\"24px\">\n",
              "    <g>\n",
              "        <path d=\"M19 3H5c-1.1 0-2 .9-2 2v14c0 1.1.9 2 2 2h14c1.1 0 2-.9 2-2V5c0-1.1-.9-2-2-2zM9 17H7v-7h2v7zm4 0h-2V7h2v10zm4 0h-2v-4h2v4z\"/>\n",
              "    </g>\n",
              "</svg>\n",
              "  </button>\n",
              "\n",
              "<style>\n",
              "  .colab-df-quickchart {\n",
              "      --bg-color: #E8F0FE;\n",
              "      --fill-color: #1967D2;\n",
              "      --hover-bg-color: #E2EBFA;\n",
              "      --hover-fill-color: #174EA6;\n",
              "      --disabled-fill-color: #AAA;\n",
              "      --disabled-bg-color: #DDD;\n",
              "  }\n",
              "\n",
              "  [theme=dark] .colab-df-quickchart {\n",
              "      --bg-color: #3B4455;\n",
              "      --fill-color: #D2E3FC;\n",
              "      --hover-bg-color: #434B5C;\n",
              "      --hover-fill-color: #FFFFFF;\n",
              "      --disabled-bg-color: #3B4455;\n",
              "      --disabled-fill-color: #666;\n",
              "  }\n",
              "\n",
              "  .colab-df-quickchart {\n",
              "    background-color: var(--bg-color);\n",
              "    border: none;\n",
              "    border-radius: 50%;\n",
              "    cursor: pointer;\n",
              "    display: none;\n",
              "    fill: var(--fill-color);\n",
              "    height: 32px;\n",
              "    padding: 0;\n",
              "    width: 32px;\n",
              "  }\n",
              "\n",
              "  .colab-df-quickchart:hover {\n",
              "    background-color: var(--hover-bg-color);\n",
              "    box-shadow: 0 1px 2px rgba(60, 64, 67, 0.3), 0 1px 3px 1px rgba(60, 64, 67, 0.15);\n",
              "    fill: var(--button-hover-fill-color);\n",
              "  }\n",
              "\n",
              "  .colab-df-quickchart-complete:disabled,\n",
              "  .colab-df-quickchart-complete:disabled:hover {\n",
              "    background-color: var(--disabled-bg-color);\n",
              "    fill: var(--disabled-fill-color);\n",
              "    box-shadow: none;\n",
              "  }\n",
              "\n",
              "  .colab-df-spinner {\n",
              "    border: 2px solid var(--fill-color);\n",
              "    border-color: transparent;\n",
              "    border-bottom-color: var(--fill-color);\n",
              "    animation:\n",
              "      spin 1s steps(1) infinite;\n",
              "  }\n",
              "\n",
              "  @keyframes spin {\n",
              "    0% {\n",
              "      border-color: transparent;\n",
              "      border-bottom-color: var(--fill-color);\n",
              "      border-left-color: var(--fill-color);\n",
              "    }\n",
              "    20% {\n",
              "      border-color: transparent;\n",
              "      border-left-color: var(--fill-color);\n",
              "      border-top-color: var(--fill-color);\n",
              "    }\n",
              "    30% {\n",
              "      border-color: transparent;\n",
              "      border-left-color: var(--fill-color);\n",
              "      border-top-color: var(--fill-color);\n",
              "      border-right-color: var(--fill-color);\n",
              "    }\n",
              "    40% {\n",
              "      border-color: transparent;\n",
              "      border-right-color: var(--fill-color);\n",
              "      border-top-color: var(--fill-color);\n",
              "    }\n",
              "    60% {\n",
              "      border-color: transparent;\n",
              "      border-right-color: var(--fill-color);\n",
              "    }\n",
              "    80% {\n",
              "      border-color: transparent;\n",
              "      border-right-color: var(--fill-color);\n",
              "      border-bottom-color: var(--fill-color);\n",
              "    }\n",
              "    90% {\n",
              "      border-color: transparent;\n",
              "      border-bottom-color: var(--fill-color);\n",
              "    }\n",
              "  }\n",
              "</style>\n",
              "\n",
              "  <script>\n",
              "    async function quickchart(key) {\n",
              "      const quickchartButtonEl =\n",
              "        document.querySelector('#' + key + ' button');\n",
              "      quickchartButtonEl.disabled = true;  // To prevent multiple clicks.\n",
              "      quickchartButtonEl.classList.add('colab-df-spinner');\n",
              "      try {\n",
              "        const charts = await google.colab.kernel.invokeFunction(\n",
              "            'suggestCharts', [key], {});\n",
              "      } catch (error) {\n",
              "        console.error('Error during call to suggestCharts:', error);\n",
              "      }\n",
              "      quickchartButtonEl.classList.remove('colab-df-spinner');\n",
              "      quickchartButtonEl.classList.add('colab-df-quickchart-complete');\n",
              "    }\n",
              "    (() => {\n",
              "      let quickchartButtonEl =\n",
              "        document.querySelector('#df-1359007d-79b1-4599-9dac-8bfec2e98695 button');\n",
              "      quickchartButtonEl.style.display =\n",
              "        google.colab.kernel.accessAllowed ? 'block' : 'none';\n",
              "    })();\n",
              "  </script>\n",
              "</div>\n",
              "    </div>\n",
              "  </div>\n"
            ]
          },
          "metadata": {},
          "execution_count": 10
        }
      ]
    },
    {
      "cell_type": "code",
      "source": [
        "play_group = player_track_df.groupby('PlayKey')\n",
        "speed = play_group.s.mean().reset_index()\n",
        "dis = play_group.dis.sum().reset_index()\n",
        "time = play_group.time.max().reset_index()\n",
        "target_df = target_df.merge(dis, how = 'left', on = 'PlayKey')\n",
        "target_df = target_df.merge(time, how = 'left', on = 'PlayKey') # using left join because there are mismatch of play between target_df and Player_track_df"
      ],
      "metadata": {
        "id": "r97NeWdNum-u"
      },
      "execution_count": null,
      "outputs": []
    },
    {
      "cell_type": "code",
      "source": [
        "target_df['s'] = target_df['dis']/target_df['time']"
      ],
      "metadata": {
        "id": "-92SIxdDEW56"
      },
      "execution_count": null,
      "outputs": []
    },
    {
      "cell_type": "code",
      "source": [
        "target_df.isna().sum()"
      ],
      "metadata": {
        "colab": {
          "base_uri": "https://localhost:8080/"
        },
        "id": "yppMSYdFe85N",
        "outputId": "b797236a-2298-47dc-c043-652114edf322"
      },
      "execution_count": null,
      "outputs": [
        {
          "output_type": "execute_result",
          "data": {
            "text/plain": [
              "PlayerKey            0\n",
              "PlayKey              0\n",
              "StadiumType      16910\n",
              "FieldType            0\n",
              "Weather          18691\n",
              "PlayType           367\n",
              "PositionGroup        0\n",
              "dis                 45\n",
              "time                45\n",
              "s                   45\n",
              "dtype: int64"
            ]
          },
          "metadata": {},
          "execution_count": 13
        }
      ]
    },
    {
      "cell_type": "code",
      "source": [
        "target_df"
      ],
      "metadata": {
        "colab": {
          "base_uri": "https://localhost:8080/",
          "height": 424
        },
        "id": "-vmvag7MEOdb",
        "outputId": "0f9bee54-e8e8-43f0-a002-8e7f86948b87"
      },
      "execution_count": null,
      "outputs": [
        {
          "output_type": "execute_result",
          "data": {
            "text/plain": [
              "        PlayerKey      PlayKey StadiumType  FieldType         Weather  \\\n",
              "0           26624    26624-1-1     Outdoor  Synthetic  Clear and warm   \n",
              "1           26624    26624-1-2     Outdoor  Synthetic  Clear and warm   \n",
              "2           26624    26624-1-3     Outdoor  Synthetic  Clear and warm   \n",
              "3           26624    26624-1-4     Outdoor  Synthetic  Clear and warm   \n",
              "4           26624    26624-1-5     Outdoor  Synthetic  Clear and warm   \n",
              "...           ...          ...         ...        ...             ...   \n",
              "267000      47888  47888-13-51     Outdoor  Synthetic  Sunny and cold   \n",
              "267001      47888  47888-13-52     Outdoor  Synthetic  Sunny and cold   \n",
              "267002      47888  47888-13-53     Outdoor  Synthetic  Sunny and cold   \n",
              "267003      47888  47888-13-54     Outdoor  Synthetic  Sunny and cold   \n",
              "267004      47888  47888-13-55     Outdoor  Synthetic  Sunny and cold   \n",
              "\n",
              "       PlayType PositionGroup    dis  time         s  \n",
              "0          Pass            QB  16.83  29.8  0.564765  \n",
              "1          Pass            QB  23.42  25.9  0.904247  \n",
              "2          Rush            QB  10.68  29.5  0.362034  \n",
              "3          Rush            QB   6.86  12.6  0.544444  \n",
              "4          Pass            QB  25.94  25.9  1.001544  \n",
              "...         ...           ...    ...   ...       ...  \n",
              "267000     Pass            DB  46.22  37.0  1.249189  \n",
              "267001     Pass            DB  53.33  29.4  1.813946  \n",
              "267002     Pass            DB  34.29  18.7  1.833690  \n",
              "267003     Pass            DB  77.07  35.7  2.158824  \n",
              "267004     Rush            DB  53.55  36.2  1.479282  \n",
              "\n",
              "[267005 rows x 10 columns]"
            ],
            "text/html": [
              "\n",
              "  <div id=\"df-a676d0c9-ded4-4870-a37d-114818f4367b\" class=\"colab-df-container\">\n",
              "    <div>\n",
              "<style scoped>\n",
              "    .dataframe tbody tr th:only-of-type {\n",
              "        vertical-align: middle;\n",
              "    }\n",
              "\n",
              "    .dataframe tbody tr th {\n",
              "        vertical-align: top;\n",
              "    }\n",
              "\n",
              "    .dataframe thead th {\n",
              "        text-align: right;\n",
              "    }\n",
              "</style>\n",
              "<table border=\"1\" class=\"dataframe\">\n",
              "  <thead>\n",
              "    <tr style=\"text-align: right;\">\n",
              "      <th></th>\n",
              "      <th>PlayerKey</th>\n",
              "      <th>PlayKey</th>\n",
              "      <th>StadiumType</th>\n",
              "      <th>FieldType</th>\n",
              "      <th>Weather</th>\n",
              "      <th>PlayType</th>\n",
              "      <th>PositionGroup</th>\n",
              "      <th>dis</th>\n",
              "      <th>time</th>\n",
              "      <th>s</th>\n",
              "    </tr>\n",
              "  </thead>\n",
              "  <tbody>\n",
              "    <tr>\n",
              "      <th>0</th>\n",
              "      <td>26624</td>\n",
              "      <td>26624-1-1</td>\n",
              "      <td>Outdoor</td>\n",
              "      <td>Synthetic</td>\n",
              "      <td>Clear and warm</td>\n",
              "      <td>Pass</td>\n",
              "      <td>QB</td>\n",
              "      <td>16.83</td>\n",
              "      <td>29.8</td>\n",
              "      <td>0.564765</td>\n",
              "    </tr>\n",
              "    <tr>\n",
              "      <th>1</th>\n",
              "      <td>26624</td>\n",
              "      <td>26624-1-2</td>\n",
              "      <td>Outdoor</td>\n",
              "      <td>Synthetic</td>\n",
              "      <td>Clear and warm</td>\n",
              "      <td>Pass</td>\n",
              "      <td>QB</td>\n",
              "      <td>23.42</td>\n",
              "      <td>25.9</td>\n",
              "      <td>0.904247</td>\n",
              "    </tr>\n",
              "    <tr>\n",
              "      <th>2</th>\n",
              "      <td>26624</td>\n",
              "      <td>26624-1-3</td>\n",
              "      <td>Outdoor</td>\n",
              "      <td>Synthetic</td>\n",
              "      <td>Clear and warm</td>\n",
              "      <td>Rush</td>\n",
              "      <td>QB</td>\n",
              "      <td>10.68</td>\n",
              "      <td>29.5</td>\n",
              "      <td>0.362034</td>\n",
              "    </tr>\n",
              "    <tr>\n",
              "      <th>3</th>\n",
              "      <td>26624</td>\n",
              "      <td>26624-1-4</td>\n",
              "      <td>Outdoor</td>\n",
              "      <td>Synthetic</td>\n",
              "      <td>Clear and warm</td>\n",
              "      <td>Rush</td>\n",
              "      <td>QB</td>\n",
              "      <td>6.86</td>\n",
              "      <td>12.6</td>\n",
              "      <td>0.544444</td>\n",
              "    </tr>\n",
              "    <tr>\n",
              "      <th>4</th>\n",
              "      <td>26624</td>\n",
              "      <td>26624-1-5</td>\n",
              "      <td>Outdoor</td>\n",
              "      <td>Synthetic</td>\n",
              "      <td>Clear and warm</td>\n",
              "      <td>Pass</td>\n",
              "      <td>QB</td>\n",
              "      <td>25.94</td>\n",
              "      <td>25.9</td>\n",
              "      <td>1.001544</td>\n",
              "    </tr>\n",
              "    <tr>\n",
              "      <th>...</th>\n",
              "      <td>...</td>\n",
              "      <td>...</td>\n",
              "      <td>...</td>\n",
              "      <td>...</td>\n",
              "      <td>...</td>\n",
              "      <td>...</td>\n",
              "      <td>...</td>\n",
              "      <td>...</td>\n",
              "      <td>...</td>\n",
              "      <td>...</td>\n",
              "    </tr>\n",
              "    <tr>\n",
              "      <th>267000</th>\n",
              "      <td>47888</td>\n",
              "      <td>47888-13-51</td>\n",
              "      <td>Outdoor</td>\n",
              "      <td>Synthetic</td>\n",
              "      <td>Sunny and cold</td>\n",
              "      <td>Pass</td>\n",
              "      <td>DB</td>\n",
              "      <td>46.22</td>\n",
              "      <td>37.0</td>\n",
              "      <td>1.249189</td>\n",
              "    </tr>\n",
              "    <tr>\n",
              "      <th>267001</th>\n",
              "      <td>47888</td>\n",
              "      <td>47888-13-52</td>\n",
              "      <td>Outdoor</td>\n",
              "      <td>Synthetic</td>\n",
              "      <td>Sunny and cold</td>\n",
              "      <td>Pass</td>\n",
              "      <td>DB</td>\n",
              "      <td>53.33</td>\n",
              "      <td>29.4</td>\n",
              "      <td>1.813946</td>\n",
              "    </tr>\n",
              "    <tr>\n",
              "      <th>267002</th>\n",
              "      <td>47888</td>\n",
              "      <td>47888-13-53</td>\n",
              "      <td>Outdoor</td>\n",
              "      <td>Synthetic</td>\n",
              "      <td>Sunny and cold</td>\n",
              "      <td>Pass</td>\n",
              "      <td>DB</td>\n",
              "      <td>34.29</td>\n",
              "      <td>18.7</td>\n",
              "      <td>1.833690</td>\n",
              "    </tr>\n",
              "    <tr>\n",
              "      <th>267003</th>\n",
              "      <td>47888</td>\n",
              "      <td>47888-13-54</td>\n",
              "      <td>Outdoor</td>\n",
              "      <td>Synthetic</td>\n",
              "      <td>Sunny and cold</td>\n",
              "      <td>Pass</td>\n",
              "      <td>DB</td>\n",
              "      <td>77.07</td>\n",
              "      <td>35.7</td>\n",
              "      <td>2.158824</td>\n",
              "    </tr>\n",
              "    <tr>\n",
              "      <th>267004</th>\n",
              "      <td>47888</td>\n",
              "      <td>47888-13-55</td>\n",
              "      <td>Outdoor</td>\n",
              "      <td>Synthetic</td>\n",
              "      <td>Sunny and cold</td>\n",
              "      <td>Rush</td>\n",
              "      <td>DB</td>\n",
              "      <td>53.55</td>\n",
              "      <td>36.2</td>\n",
              "      <td>1.479282</td>\n",
              "    </tr>\n",
              "  </tbody>\n",
              "</table>\n",
              "<p>267005 rows × 10 columns</p>\n",
              "</div>\n",
              "    <div class=\"colab-df-buttons\">\n",
              "\n",
              "  <div class=\"colab-df-container\">\n",
              "    <button class=\"colab-df-convert\" onclick=\"convertToInteractive('df-a676d0c9-ded4-4870-a37d-114818f4367b')\"\n",
              "            title=\"Convert this dataframe to an interactive table.\"\n",
              "            style=\"display:none;\">\n",
              "\n",
              "  <svg xmlns=\"http://www.w3.org/2000/svg\" height=\"24px\" viewBox=\"0 -960 960 960\">\n",
              "    <path d=\"M120-120v-720h720v720H120Zm60-500h600v-160H180v160Zm220 220h160v-160H400v160Zm0 220h160v-160H400v160ZM180-400h160v-160H180v160Zm440 0h160v-160H620v160ZM180-180h160v-160H180v160Zm440 0h160v-160H620v160Z\"/>\n",
              "  </svg>\n",
              "    </button>\n",
              "\n",
              "  <style>\n",
              "    .colab-df-container {\n",
              "      display:flex;\n",
              "      gap: 12px;\n",
              "    }\n",
              "\n",
              "    .colab-df-convert {\n",
              "      background-color: #E8F0FE;\n",
              "      border: none;\n",
              "      border-radius: 50%;\n",
              "      cursor: pointer;\n",
              "      display: none;\n",
              "      fill: #1967D2;\n",
              "      height: 32px;\n",
              "      padding: 0 0 0 0;\n",
              "      width: 32px;\n",
              "    }\n",
              "\n",
              "    .colab-df-convert:hover {\n",
              "      background-color: #E2EBFA;\n",
              "      box-shadow: 0px 1px 2px rgba(60, 64, 67, 0.3), 0px 1px 3px 1px rgba(60, 64, 67, 0.15);\n",
              "      fill: #174EA6;\n",
              "    }\n",
              "\n",
              "    .colab-df-buttons div {\n",
              "      margin-bottom: 4px;\n",
              "    }\n",
              "\n",
              "    [theme=dark] .colab-df-convert {\n",
              "      background-color: #3B4455;\n",
              "      fill: #D2E3FC;\n",
              "    }\n",
              "\n",
              "    [theme=dark] .colab-df-convert:hover {\n",
              "      background-color: #434B5C;\n",
              "      box-shadow: 0px 1px 3px 1px rgba(0, 0, 0, 0.15);\n",
              "      filter: drop-shadow(0px 1px 2px rgba(0, 0, 0, 0.3));\n",
              "      fill: #FFFFFF;\n",
              "    }\n",
              "  </style>\n",
              "\n",
              "    <script>\n",
              "      const buttonEl =\n",
              "        document.querySelector('#df-a676d0c9-ded4-4870-a37d-114818f4367b button.colab-df-convert');\n",
              "      buttonEl.style.display =\n",
              "        google.colab.kernel.accessAllowed ? 'block' : 'none';\n",
              "\n",
              "      async function convertToInteractive(key) {\n",
              "        const element = document.querySelector('#df-a676d0c9-ded4-4870-a37d-114818f4367b');\n",
              "        const dataTable =\n",
              "          await google.colab.kernel.invokeFunction('convertToInteractive',\n",
              "                                                    [key], {});\n",
              "        if (!dataTable) return;\n",
              "\n",
              "        const docLinkHtml = 'Like what you see? Visit the ' +\n",
              "          '<a target=\"_blank\" href=https://colab.research.google.com/notebooks/data_table.ipynb>data table notebook</a>'\n",
              "          + ' to learn more about interactive tables.';\n",
              "        element.innerHTML = '';\n",
              "        dataTable['output_type'] = 'display_data';\n",
              "        await google.colab.output.renderOutput(dataTable, element);\n",
              "        const docLink = document.createElement('div');\n",
              "        docLink.innerHTML = docLinkHtml;\n",
              "        element.appendChild(docLink);\n",
              "      }\n",
              "    </script>\n",
              "  </div>\n",
              "\n",
              "\n",
              "<div id=\"df-b536e01a-ea67-4f3a-b6a5-ef6b55c0a55c\">\n",
              "  <button class=\"colab-df-quickchart\" onclick=\"quickchart('df-b536e01a-ea67-4f3a-b6a5-ef6b55c0a55c')\"\n",
              "            title=\"Suggest charts\"\n",
              "            style=\"display:none;\">\n",
              "\n",
              "<svg xmlns=\"http://www.w3.org/2000/svg\" height=\"24px\"viewBox=\"0 0 24 24\"\n",
              "     width=\"24px\">\n",
              "    <g>\n",
              "        <path d=\"M19 3H5c-1.1 0-2 .9-2 2v14c0 1.1.9 2 2 2h14c1.1 0 2-.9 2-2V5c0-1.1-.9-2-2-2zM9 17H7v-7h2v7zm4 0h-2V7h2v10zm4 0h-2v-4h2v4z\"/>\n",
              "    </g>\n",
              "</svg>\n",
              "  </button>\n",
              "\n",
              "<style>\n",
              "  .colab-df-quickchart {\n",
              "      --bg-color: #E8F0FE;\n",
              "      --fill-color: #1967D2;\n",
              "      --hover-bg-color: #E2EBFA;\n",
              "      --hover-fill-color: #174EA6;\n",
              "      --disabled-fill-color: #AAA;\n",
              "      --disabled-bg-color: #DDD;\n",
              "  }\n",
              "\n",
              "  [theme=dark] .colab-df-quickchart {\n",
              "      --bg-color: #3B4455;\n",
              "      --fill-color: #D2E3FC;\n",
              "      --hover-bg-color: #434B5C;\n",
              "      --hover-fill-color: #FFFFFF;\n",
              "      --disabled-bg-color: #3B4455;\n",
              "      --disabled-fill-color: #666;\n",
              "  }\n",
              "\n",
              "  .colab-df-quickchart {\n",
              "    background-color: var(--bg-color);\n",
              "    border: none;\n",
              "    border-radius: 50%;\n",
              "    cursor: pointer;\n",
              "    display: none;\n",
              "    fill: var(--fill-color);\n",
              "    height: 32px;\n",
              "    padding: 0;\n",
              "    width: 32px;\n",
              "  }\n",
              "\n",
              "  .colab-df-quickchart:hover {\n",
              "    background-color: var(--hover-bg-color);\n",
              "    box-shadow: 0 1px 2px rgba(60, 64, 67, 0.3), 0 1px 3px 1px rgba(60, 64, 67, 0.15);\n",
              "    fill: var(--button-hover-fill-color);\n",
              "  }\n",
              "\n",
              "  .colab-df-quickchart-complete:disabled,\n",
              "  .colab-df-quickchart-complete:disabled:hover {\n",
              "    background-color: var(--disabled-bg-color);\n",
              "    fill: var(--disabled-fill-color);\n",
              "    box-shadow: none;\n",
              "  }\n",
              "\n",
              "  .colab-df-spinner {\n",
              "    border: 2px solid var(--fill-color);\n",
              "    border-color: transparent;\n",
              "    border-bottom-color: var(--fill-color);\n",
              "    animation:\n",
              "      spin 1s steps(1) infinite;\n",
              "  }\n",
              "\n",
              "  @keyframes spin {\n",
              "    0% {\n",
              "      border-color: transparent;\n",
              "      border-bottom-color: var(--fill-color);\n",
              "      border-left-color: var(--fill-color);\n",
              "    }\n",
              "    20% {\n",
              "      border-color: transparent;\n",
              "      border-left-color: var(--fill-color);\n",
              "      border-top-color: var(--fill-color);\n",
              "    }\n",
              "    30% {\n",
              "      border-color: transparent;\n",
              "      border-left-color: var(--fill-color);\n",
              "      border-top-color: var(--fill-color);\n",
              "      border-right-color: var(--fill-color);\n",
              "    }\n",
              "    40% {\n",
              "      border-color: transparent;\n",
              "      border-right-color: var(--fill-color);\n",
              "      border-top-color: var(--fill-color);\n",
              "    }\n",
              "    60% {\n",
              "      border-color: transparent;\n",
              "      border-right-color: var(--fill-color);\n",
              "    }\n",
              "    80% {\n",
              "      border-color: transparent;\n",
              "      border-right-color: var(--fill-color);\n",
              "      border-bottom-color: var(--fill-color);\n",
              "    }\n",
              "    90% {\n",
              "      border-color: transparent;\n",
              "      border-bottom-color: var(--fill-color);\n",
              "    }\n",
              "  }\n",
              "</style>\n",
              "\n",
              "  <script>\n",
              "    async function quickchart(key) {\n",
              "      const quickchartButtonEl =\n",
              "        document.querySelector('#' + key + ' button');\n",
              "      quickchartButtonEl.disabled = true;  // To prevent multiple clicks.\n",
              "      quickchartButtonEl.classList.add('colab-df-spinner');\n",
              "      try {\n",
              "        const charts = await google.colab.kernel.invokeFunction(\n",
              "            'suggestCharts', [key], {});\n",
              "      } catch (error) {\n",
              "        console.error('Error during call to suggestCharts:', error);\n",
              "      }\n",
              "      quickchartButtonEl.classList.remove('colab-df-spinner');\n",
              "      quickchartButtonEl.classList.add('colab-df-quickchart-complete');\n",
              "    }\n",
              "    (() => {\n",
              "      let quickchartButtonEl =\n",
              "        document.querySelector('#df-b536e01a-ea67-4f3a-b6a5-ef6b55c0a55c button');\n",
              "      quickchartButtonEl.style.display =\n",
              "        google.colab.kernel.accessAllowed ? 'block' : 'none';\n",
              "    })();\n",
              "  </script>\n",
              "</div>\n",
              "    </div>\n",
              "  </div>\n"
            ]
          },
          "metadata": {},
          "execution_count": 14
        }
      ]
    },
    {
      "cell_type": "code",
      "source": [
        "cat_names = ['StadiumType', 'FieldType', 'Weather','PlayType', 'PositionGroup']\n",
        "procs = [Categorify]\n",
        "tabular_data = TabularPandas(target_df, procs, cat_names)\n",
        "target_df = tabular_data.items"
      ],
      "metadata": {
        "id": "V6frJbJlunBP"
      },
      "execution_count": null,
      "outputs": []
    },
    {
      "cell_type": "code",
      "source": [
        "label_data = pd.DataFrame({'PlayerKey':target_df.PlayerKey.unique().tolist(),\n",
        "                          'Label':pd.Series([np.nan] * 250)})"
      ],
      "metadata": {
        "id": "6tI5QXzjunDt"
      },
      "execution_count": null,
      "outputs": []
    },
    {
      "cell_type": "code",
      "source": [
        "for player in label_data.PlayerKey:\n",
        "    if player in injury_df.PlayerKey.tolist():\n",
        "        feature = label_data.PlayerKey == player\n",
        "        label_data.loc[feature,'Label'] = 1"
      ],
      "metadata": {
        "id": "cVVhYhvxvXKy"
      },
      "execution_count": null,
      "outputs": []
    },
    {
      "cell_type": "code",
      "source": [
        "label_data['Label'].fillna(value=0, inplace=True)\n",
        "label_data['Label'] = label_data['Label'].astype(int)"
      ],
      "metadata": {
        "id": "xAoDZfFCvXM1"
      },
      "execution_count": null,
      "outputs": []
    },
    {
      "cell_type": "code",
      "source": [
        "len(label_data)"
      ],
      "metadata": {
        "colab": {
          "base_uri": "https://localhost:8080/"
        },
        "id": "Mb7fXlLXoDTr",
        "outputId": "0b7b308a-228d-401d-876f-72e0ea21e740"
      },
      "execution_count": null,
      "outputs": [
        {
          "output_type": "execute_result",
          "data": {
            "text/plain": [
              "250"
            ]
          },
          "metadata": {},
          "execution_count": 19
        }
      ]
    },
    {
      "cell_type": "code",
      "source": [
        "sum(label_data.PlayerKey == target_df.PlayerKey.unique()) # checking the relationship between label_df  and target_df"
      ],
      "metadata": {
        "colab": {
          "base_uri": "https://localhost:8080/"
        },
        "id": "dvWM2vdnNGQU",
        "outputId": "6453c1ce-289b-445f-dbe5-bc13139c2bcb"
      },
      "execution_count": null,
      "outputs": [
        {
          "output_type": "execute_result",
          "data": {
            "text/plain": [
              "250"
            ]
          },
          "metadata": {},
          "execution_count": 20
        }
      ]
    },
    {
      "cell_type": "code",
      "source": [
        "def standardize(df, column_names):\n",
        "    for column_name in column_names:\n",
        "        mean = df[column_name].mean()\n",
        "        std_dev = df[column_name].std()\n",
        "        df[column_name] = (df[column_name] - mean) / std_dev\n",
        "    return df"
      ],
      "metadata": {
        "id": "pPB6cVfxvXPE"
      },
      "execution_count": null,
      "outputs": []
    },
    {
      "cell_type": "code",
      "source": [
        "norm_target_df = standardize(target_df,['s','dis','time'])"
      ],
      "metadata": {
        "id": "Lit3mCOkvXRR"
      },
      "execution_count": null,
      "outputs": []
    },
    {
      "cell_type": "code",
      "source": [
        "norm_target_df.isna().sum()"
      ],
      "metadata": {
        "colab": {
          "base_uri": "https://localhost:8080/"
        },
        "id": "uW7ojoz0xaOS",
        "outputId": "054d7918-ac02-4b26-e53e-48371f843227"
      },
      "execution_count": null,
      "outputs": [
        {
          "output_type": "execute_result",
          "data": {
            "text/plain": [
              "PlayerKey         0\n",
              "PlayKey           0\n",
              "StadiumType       0\n",
              "FieldType         0\n",
              "Weather           0\n",
              "PlayType          0\n",
              "PositionGroup     0\n",
              "dis              45\n",
              "time             45\n",
              "s                45\n",
              "dtype: int64"
            ]
          },
          "metadata": {},
          "execution_count": 23
        }
      ]
    },
    {
      "cell_type": "code",
      "source": [
        "norm_target_df = norm_target_df.fillna(0)"
      ],
      "metadata": {
        "id": "ZuPwxSItMo2c"
      },
      "execution_count": null,
      "outputs": []
    },
    {
      "cell_type": "code",
      "source": [
        "norm_target_df = pd.merge(norm_target_df,label_data, how = 'left')"
      ],
      "metadata": {
        "id": "4gof1PE9MxS4"
      },
      "execution_count": null,
      "outputs": []
    },
    {
      "cell_type": "code",
      "source": [
        "norm_target_df"
      ],
      "metadata": {
        "colab": {
          "base_uri": "https://localhost:8080/",
          "height": 424
        },
        "id": "Bs0MfUsuxSoE",
        "outputId": "64a7aeae-2cee-46da-e0e3-f4d431a510b6"
      },
      "execution_count": null,
      "outputs": [
        {
          "output_type": "execute_result",
          "data": {
            "text/plain": [
              "        PlayerKey      PlayKey  StadiumType  FieldType  Weather  PlayType  \\\n",
              "0           26624    26624-1-1           19          2        9         7   \n",
              "1           26624    26624-1-2           19          2        9         7   \n",
              "2           26624    26624-1-3           19          2        9        11   \n",
              "3           26624    26624-1-4           19          2        9        11   \n",
              "4           26624    26624-1-5           19          2        9         7   \n",
              "...           ...          ...          ...        ...      ...       ...   \n",
              "267000      47888  47888-13-51           19          2       59         7   \n",
              "267001      47888  47888-13-52           19          2       59         7   \n",
              "267002      47888  47888-13-53           19          2       59         7   \n",
              "267003      47888  47888-13-54           19          2       59         7   \n",
              "267004      47888  47888-13-55           19          2       59        11   \n",
              "\n",
              "        PositionGroup       dis      time         s  Label  \n",
              "0                   6 -0.977832  0.102548 -1.116109      0  \n",
              "1                   6 -0.673555 -0.219426 -0.652143      0  \n",
              "2                   6 -1.261793  0.077781 -1.393179      0  \n",
              "3                   6 -1.438172 -1.317439 -1.143881      0  \n",
              "4                   6 -0.557200 -0.219426 -0.519168      0  \n",
              "...               ...       ...       ...       ...    ...  \n",
              "267000              1  0.379179  0.696962 -0.180715      0  \n",
              "267001              1  0.707466  0.069525  0.591132      0  \n",
              "267002              1 -0.171659 -0.813839  0.618116      0  \n",
              "267003              1  1.803602  0.589637  1.062472      0  \n",
              "267004              1  0.717624  0.630916  0.133750      0  \n",
              "\n",
              "[267005 rows x 11 columns]"
            ],
            "text/html": [
              "\n",
              "  <div id=\"df-1bd8a363-c20b-4c72-aeab-a5a9023df6bc\" class=\"colab-df-container\">\n",
              "    <div>\n",
              "<style scoped>\n",
              "    .dataframe tbody tr th:only-of-type {\n",
              "        vertical-align: middle;\n",
              "    }\n",
              "\n",
              "    .dataframe tbody tr th {\n",
              "        vertical-align: top;\n",
              "    }\n",
              "\n",
              "    .dataframe thead th {\n",
              "        text-align: right;\n",
              "    }\n",
              "</style>\n",
              "<table border=\"1\" class=\"dataframe\">\n",
              "  <thead>\n",
              "    <tr style=\"text-align: right;\">\n",
              "      <th></th>\n",
              "      <th>PlayerKey</th>\n",
              "      <th>PlayKey</th>\n",
              "      <th>StadiumType</th>\n",
              "      <th>FieldType</th>\n",
              "      <th>Weather</th>\n",
              "      <th>PlayType</th>\n",
              "      <th>PositionGroup</th>\n",
              "      <th>dis</th>\n",
              "      <th>time</th>\n",
              "      <th>s</th>\n",
              "      <th>Label</th>\n",
              "    </tr>\n",
              "  </thead>\n",
              "  <tbody>\n",
              "    <tr>\n",
              "      <th>0</th>\n",
              "      <td>26624</td>\n",
              "      <td>26624-1-1</td>\n",
              "      <td>19</td>\n",
              "      <td>2</td>\n",
              "      <td>9</td>\n",
              "      <td>7</td>\n",
              "      <td>6</td>\n",
              "      <td>-0.977832</td>\n",
              "      <td>0.102548</td>\n",
              "      <td>-1.116109</td>\n",
              "      <td>0</td>\n",
              "    </tr>\n",
              "    <tr>\n",
              "      <th>1</th>\n",
              "      <td>26624</td>\n",
              "      <td>26624-1-2</td>\n",
              "      <td>19</td>\n",
              "      <td>2</td>\n",
              "      <td>9</td>\n",
              "      <td>7</td>\n",
              "      <td>6</td>\n",
              "      <td>-0.673555</td>\n",
              "      <td>-0.219426</td>\n",
              "      <td>-0.652143</td>\n",
              "      <td>0</td>\n",
              "    </tr>\n",
              "    <tr>\n",
              "      <th>2</th>\n",
              "      <td>26624</td>\n",
              "      <td>26624-1-3</td>\n",
              "      <td>19</td>\n",
              "      <td>2</td>\n",
              "      <td>9</td>\n",
              "      <td>11</td>\n",
              "      <td>6</td>\n",
              "      <td>-1.261793</td>\n",
              "      <td>0.077781</td>\n",
              "      <td>-1.393179</td>\n",
              "      <td>0</td>\n",
              "    </tr>\n",
              "    <tr>\n",
              "      <th>3</th>\n",
              "      <td>26624</td>\n",
              "      <td>26624-1-4</td>\n",
              "      <td>19</td>\n",
              "      <td>2</td>\n",
              "      <td>9</td>\n",
              "      <td>11</td>\n",
              "      <td>6</td>\n",
              "      <td>-1.438172</td>\n",
              "      <td>-1.317439</td>\n",
              "      <td>-1.143881</td>\n",
              "      <td>0</td>\n",
              "    </tr>\n",
              "    <tr>\n",
              "      <th>4</th>\n",
              "      <td>26624</td>\n",
              "      <td>26624-1-5</td>\n",
              "      <td>19</td>\n",
              "      <td>2</td>\n",
              "      <td>9</td>\n",
              "      <td>7</td>\n",
              "      <td>6</td>\n",
              "      <td>-0.557200</td>\n",
              "      <td>-0.219426</td>\n",
              "      <td>-0.519168</td>\n",
              "      <td>0</td>\n",
              "    </tr>\n",
              "    <tr>\n",
              "      <th>...</th>\n",
              "      <td>...</td>\n",
              "      <td>...</td>\n",
              "      <td>...</td>\n",
              "      <td>...</td>\n",
              "      <td>...</td>\n",
              "      <td>...</td>\n",
              "      <td>...</td>\n",
              "      <td>...</td>\n",
              "      <td>...</td>\n",
              "      <td>...</td>\n",
              "      <td>...</td>\n",
              "    </tr>\n",
              "    <tr>\n",
              "      <th>267000</th>\n",
              "      <td>47888</td>\n",
              "      <td>47888-13-51</td>\n",
              "      <td>19</td>\n",
              "      <td>2</td>\n",
              "      <td>59</td>\n",
              "      <td>7</td>\n",
              "      <td>1</td>\n",
              "      <td>0.379179</td>\n",
              "      <td>0.696962</td>\n",
              "      <td>-0.180715</td>\n",
              "      <td>0</td>\n",
              "    </tr>\n",
              "    <tr>\n",
              "      <th>267001</th>\n",
              "      <td>47888</td>\n",
              "      <td>47888-13-52</td>\n",
              "      <td>19</td>\n",
              "      <td>2</td>\n",
              "      <td>59</td>\n",
              "      <td>7</td>\n",
              "      <td>1</td>\n",
              "      <td>0.707466</td>\n",
              "      <td>0.069525</td>\n",
              "      <td>0.591132</td>\n",
              "      <td>0</td>\n",
              "    </tr>\n",
              "    <tr>\n",
              "      <th>267002</th>\n",
              "      <td>47888</td>\n",
              "      <td>47888-13-53</td>\n",
              "      <td>19</td>\n",
              "      <td>2</td>\n",
              "      <td>59</td>\n",
              "      <td>7</td>\n",
              "      <td>1</td>\n",
              "      <td>-0.171659</td>\n",
              "      <td>-0.813839</td>\n",
              "      <td>0.618116</td>\n",
              "      <td>0</td>\n",
              "    </tr>\n",
              "    <tr>\n",
              "      <th>267003</th>\n",
              "      <td>47888</td>\n",
              "      <td>47888-13-54</td>\n",
              "      <td>19</td>\n",
              "      <td>2</td>\n",
              "      <td>59</td>\n",
              "      <td>7</td>\n",
              "      <td>1</td>\n",
              "      <td>1.803602</td>\n",
              "      <td>0.589637</td>\n",
              "      <td>1.062472</td>\n",
              "      <td>0</td>\n",
              "    </tr>\n",
              "    <tr>\n",
              "      <th>267004</th>\n",
              "      <td>47888</td>\n",
              "      <td>47888-13-55</td>\n",
              "      <td>19</td>\n",
              "      <td>2</td>\n",
              "      <td>59</td>\n",
              "      <td>11</td>\n",
              "      <td>1</td>\n",
              "      <td>0.717624</td>\n",
              "      <td>0.630916</td>\n",
              "      <td>0.133750</td>\n",
              "      <td>0</td>\n",
              "    </tr>\n",
              "  </tbody>\n",
              "</table>\n",
              "<p>267005 rows × 11 columns</p>\n",
              "</div>\n",
              "    <div class=\"colab-df-buttons\">\n",
              "\n",
              "  <div class=\"colab-df-container\">\n",
              "    <button class=\"colab-df-convert\" onclick=\"convertToInteractive('df-1bd8a363-c20b-4c72-aeab-a5a9023df6bc')\"\n",
              "            title=\"Convert this dataframe to an interactive table.\"\n",
              "            style=\"display:none;\">\n",
              "\n",
              "  <svg xmlns=\"http://www.w3.org/2000/svg\" height=\"24px\" viewBox=\"0 -960 960 960\">\n",
              "    <path d=\"M120-120v-720h720v720H120Zm60-500h600v-160H180v160Zm220 220h160v-160H400v160Zm0 220h160v-160H400v160ZM180-400h160v-160H180v160Zm440 0h160v-160H620v160ZM180-180h160v-160H180v160Zm440 0h160v-160H620v160Z\"/>\n",
              "  </svg>\n",
              "    </button>\n",
              "\n",
              "  <style>\n",
              "    .colab-df-container {\n",
              "      display:flex;\n",
              "      gap: 12px;\n",
              "    }\n",
              "\n",
              "    .colab-df-convert {\n",
              "      background-color: #E8F0FE;\n",
              "      border: none;\n",
              "      border-radius: 50%;\n",
              "      cursor: pointer;\n",
              "      display: none;\n",
              "      fill: #1967D2;\n",
              "      height: 32px;\n",
              "      padding: 0 0 0 0;\n",
              "      width: 32px;\n",
              "    }\n",
              "\n",
              "    .colab-df-convert:hover {\n",
              "      background-color: #E2EBFA;\n",
              "      box-shadow: 0px 1px 2px rgba(60, 64, 67, 0.3), 0px 1px 3px 1px rgba(60, 64, 67, 0.15);\n",
              "      fill: #174EA6;\n",
              "    }\n",
              "\n",
              "    .colab-df-buttons div {\n",
              "      margin-bottom: 4px;\n",
              "    }\n",
              "\n",
              "    [theme=dark] .colab-df-convert {\n",
              "      background-color: #3B4455;\n",
              "      fill: #D2E3FC;\n",
              "    }\n",
              "\n",
              "    [theme=dark] .colab-df-convert:hover {\n",
              "      background-color: #434B5C;\n",
              "      box-shadow: 0px 1px 3px 1px rgba(0, 0, 0, 0.15);\n",
              "      filter: drop-shadow(0px 1px 2px rgba(0, 0, 0, 0.3));\n",
              "      fill: #FFFFFF;\n",
              "    }\n",
              "  </style>\n",
              "\n",
              "    <script>\n",
              "      const buttonEl =\n",
              "        document.querySelector('#df-1bd8a363-c20b-4c72-aeab-a5a9023df6bc button.colab-df-convert');\n",
              "      buttonEl.style.display =\n",
              "        google.colab.kernel.accessAllowed ? 'block' : 'none';\n",
              "\n",
              "      async function convertToInteractive(key) {\n",
              "        const element = document.querySelector('#df-1bd8a363-c20b-4c72-aeab-a5a9023df6bc');\n",
              "        const dataTable =\n",
              "          await google.colab.kernel.invokeFunction('convertToInteractive',\n",
              "                                                    [key], {});\n",
              "        if (!dataTable) return;\n",
              "\n",
              "        const docLinkHtml = 'Like what you see? Visit the ' +\n",
              "          '<a target=\"_blank\" href=https://colab.research.google.com/notebooks/data_table.ipynb>data table notebook</a>'\n",
              "          + ' to learn more about interactive tables.';\n",
              "        element.innerHTML = '';\n",
              "        dataTable['output_type'] = 'display_data';\n",
              "        await google.colab.output.renderOutput(dataTable, element);\n",
              "        const docLink = document.createElement('div');\n",
              "        docLink.innerHTML = docLinkHtml;\n",
              "        element.appendChild(docLink);\n",
              "      }\n",
              "    </script>\n",
              "  </div>\n",
              "\n",
              "\n",
              "<div id=\"df-3b95aa56-586e-4b2e-96e4-02b71ca30427\">\n",
              "  <button class=\"colab-df-quickchart\" onclick=\"quickchart('df-3b95aa56-586e-4b2e-96e4-02b71ca30427')\"\n",
              "            title=\"Suggest charts\"\n",
              "            style=\"display:none;\">\n",
              "\n",
              "<svg xmlns=\"http://www.w3.org/2000/svg\" height=\"24px\"viewBox=\"0 0 24 24\"\n",
              "     width=\"24px\">\n",
              "    <g>\n",
              "        <path d=\"M19 3H5c-1.1 0-2 .9-2 2v14c0 1.1.9 2 2 2h14c1.1 0 2-.9 2-2V5c0-1.1-.9-2-2-2zM9 17H7v-7h2v7zm4 0h-2V7h2v10zm4 0h-2v-4h2v4z\"/>\n",
              "    </g>\n",
              "</svg>\n",
              "  </button>\n",
              "\n",
              "<style>\n",
              "  .colab-df-quickchart {\n",
              "      --bg-color: #E8F0FE;\n",
              "      --fill-color: #1967D2;\n",
              "      --hover-bg-color: #E2EBFA;\n",
              "      --hover-fill-color: #174EA6;\n",
              "      --disabled-fill-color: #AAA;\n",
              "      --disabled-bg-color: #DDD;\n",
              "  }\n",
              "\n",
              "  [theme=dark] .colab-df-quickchart {\n",
              "      --bg-color: #3B4455;\n",
              "      --fill-color: #D2E3FC;\n",
              "      --hover-bg-color: #434B5C;\n",
              "      --hover-fill-color: #FFFFFF;\n",
              "      --disabled-bg-color: #3B4455;\n",
              "      --disabled-fill-color: #666;\n",
              "  }\n",
              "\n",
              "  .colab-df-quickchart {\n",
              "    background-color: var(--bg-color);\n",
              "    border: none;\n",
              "    border-radius: 50%;\n",
              "    cursor: pointer;\n",
              "    display: none;\n",
              "    fill: var(--fill-color);\n",
              "    height: 32px;\n",
              "    padding: 0;\n",
              "    width: 32px;\n",
              "  }\n",
              "\n",
              "  .colab-df-quickchart:hover {\n",
              "    background-color: var(--hover-bg-color);\n",
              "    box-shadow: 0 1px 2px rgba(60, 64, 67, 0.3), 0 1px 3px 1px rgba(60, 64, 67, 0.15);\n",
              "    fill: var(--button-hover-fill-color);\n",
              "  }\n",
              "\n",
              "  .colab-df-quickchart-complete:disabled,\n",
              "  .colab-df-quickchart-complete:disabled:hover {\n",
              "    background-color: var(--disabled-bg-color);\n",
              "    fill: var(--disabled-fill-color);\n",
              "    box-shadow: none;\n",
              "  }\n",
              "\n",
              "  .colab-df-spinner {\n",
              "    border: 2px solid var(--fill-color);\n",
              "    border-color: transparent;\n",
              "    border-bottom-color: var(--fill-color);\n",
              "    animation:\n",
              "      spin 1s steps(1) infinite;\n",
              "  }\n",
              "\n",
              "  @keyframes spin {\n",
              "    0% {\n",
              "      border-color: transparent;\n",
              "      border-bottom-color: var(--fill-color);\n",
              "      border-left-color: var(--fill-color);\n",
              "    }\n",
              "    20% {\n",
              "      border-color: transparent;\n",
              "      border-left-color: var(--fill-color);\n",
              "      border-top-color: var(--fill-color);\n",
              "    }\n",
              "    30% {\n",
              "      border-color: transparent;\n",
              "      border-left-color: var(--fill-color);\n",
              "      border-top-color: var(--fill-color);\n",
              "      border-right-color: var(--fill-color);\n",
              "    }\n",
              "    40% {\n",
              "      border-color: transparent;\n",
              "      border-right-color: var(--fill-color);\n",
              "      border-top-color: var(--fill-color);\n",
              "    }\n",
              "    60% {\n",
              "      border-color: transparent;\n",
              "      border-right-color: var(--fill-color);\n",
              "    }\n",
              "    80% {\n",
              "      border-color: transparent;\n",
              "      border-right-color: var(--fill-color);\n",
              "      border-bottom-color: var(--fill-color);\n",
              "    }\n",
              "    90% {\n",
              "      border-color: transparent;\n",
              "      border-bottom-color: var(--fill-color);\n",
              "    }\n",
              "  }\n",
              "</style>\n",
              "\n",
              "  <script>\n",
              "    async function quickchart(key) {\n",
              "      const quickchartButtonEl =\n",
              "        document.querySelector('#' + key + ' button');\n",
              "      quickchartButtonEl.disabled = true;  // To prevent multiple clicks.\n",
              "      quickchartButtonEl.classList.add('colab-df-spinner');\n",
              "      try {\n",
              "        const charts = await google.colab.kernel.invokeFunction(\n",
              "            'suggestCharts', [key], {});\n",
              "      } catch (error) {\n",
              "        console.error('Error during call to suggestCharts:', error);\n",
              "      }\n",
              "      quickchartButtonEl.classList.remove('colab-df-spinner');\n",
              "      quickchartButtonEl.classList.add('colab-df-quickchart-complete');\n",
              "    }\n",
              "    (() => {\n",
              "      let quickchartButtonEl =\n",
              "        document.querySelector('#df-3b95aa56-586e-4b2e-96e4-02b71ca30427 button');\n",
              "      quickchartButtonEl.style.display =\n",
              "        google.colab.kernel.accessAllowed ? 'block' : 'none';\n",
              "    })();\n",
              "  </script>\n",
              "</div>\n",
              "    </div>\n",
              "  </div>\n"
            ]
          },
          "metadata": {},
          "execution_count": 26
        }
      ]
    },
    {
      "cell_type": "code",
      "source": [
        "norm_target_df.Label.value_counts()"
      ],
      "metadata": {
        "colab": {
          "base_uri": "https://localhost:8080/"
        },
        "id": "21jt9QGWM-iN",
        "outputId": "a3934a28-c3db-4da4-d35e-5c6a85fddcd2"
      },
      "execution_count": null,
      "outputs": [
        {
          "output_type": "execute_result",
          "data": {
            "text/plain": [
              "0    177256\n",
              "1     89749\n",
              "Name: Label, dtype: int64"
            ]
          },
          "metadata": {},
          "execution_count": 27
        }
      ]
    },
    {
      "cell_type": "code",
      "source": [
        "len(norm_target_df)"
      ],
      "metadata": {
        "colab": {
          "base_uri": "https://localhost:8080/"
        },
        "id": "uhP0ru8ONNsJ",
        "outputId": "8bbfa8ac-6aa2-4169-828d-4e269fd3b96b"
      },
      "execution_count": null,
      "outputs": [
        {
          "output_type": "execute_result",
          "data": {
            "text/plain": [
              "267005"
            ]
          },
          "metadata": {},
          "execution_count": 28
        }
      ]
    },
    {
      "cell_type": "code",
      "source": [
        "plt.hist(norm_target_df.PlayerKey.value_counts()) # numbers of play is different for each player"
      ],
      "metadata": {
        "colab": {
          "base_uri": "https://localhost:8080/",
          "height": 499
        },
        "id": "zp8IfFphzQsX",
        "outputId": "890b7af4-57bd-40e6-e8bb-d36714021163"
      },
      "execution_count": null,
      "outputs": [
        {
          "output_type": "execute_result",
          "data": {
            "text/plain": [
              "(array([28., 36., 26., 27., 31., 25., 26., 28., 14.,  9.]),\n",
              " array([  24. ,  263.8,  503.6,  743.4,  983.2, 1223. , 1462.8, 1702.6,\n",
              "        1942.4, 2182.2, 2422. ]),\n",
              " <BarContainer object of 10 artists>)"
            ]
          },
          "metadata": {},
          "execution_count": 29
        },
        {
          "output_type": "display_data",
          "data": {
            "text/plain": [
              "<Figure size 640x480 with 1 Axes>"
            ],
            "image/png": "[encoded data removed]"
          },
          "metadata": {}
        }
      ]
    },
    {
      "cell_type": "code",
      "source": [
        "norm_target_df.PlayerKey.value_counts().max() # the maximum number play of a player is 2422"
      ],
      "metadata": {
        "colab": {
          "base_uri": "https://localhost:8080/"
        },
        "id": "jB392c4sE3bP",
        "outputId": "e824133f-0a9e-48d7-cad7-036ecf4781dc"
      },
      "execution_count": null,
      "outputs": [
        {
          "output_type": "execute_result",
          "data": {
            "text/plain": [
              "2422"
            ]
          },
          "metadata": {},
          "execution_count": 30
        }
      ]
    },
    {
      "cell_type": "markdown",
      "source": [
        "# Padding"
      ],
      "metadata": {
        "id": "QP5MUFkEGV_z"
      }
    },
    {
      "cell_type": "code",
      "source": [
        "target_group = norm_target_df.groupby('PlayerKey')\n",
        "player_dataframes = {}\n",
        "target_row_count = 2422  # Set the target row count/ timestep\n",
        "\n",
        "for name, group in target_group:\n",
        "    # Reset the index of the group DataFrame\n",
        "    group = group.reset_index(drop=True)\n",
        "\n",
        "    if len(group) > target_row_count:\n",
        "        group = group[:target_row_count]\n",
        "    elif len(group) < target_row_count:\n",
        "        # Calculate the number of rows needed to reach the target row count\n",
        "        missing_rows = target_row_count - len(group)\n",
        "        # Create a DataFrame with the missing_rows count, filled with 0\n",
        "        fill_df = pd.DataFrame(0, index=range(missing_rows), columns=group.columns)\n",
        "        fill_df.iloc[:, 0] = group.PlayerKey.values.tolist()[0]\n",
        "\n",
        "        # Concatenate the group DataFrame with the fill_df\n",
        "        group = pd.concat([group, fill_df], ignore_index=True)\n",
        "\n",
        "    # Store the player's modified DataFrame in the dictionary using the PlayerKey as the key\n",
        "    player_dataframes[name] = group\n",
        "\n",
        "# Concatenate all the modified DataFrames in player_dataframes.values()\n",
        "combined_dataframe = pd.concat(player_dataframes.values())"
      ],
      "metadata": {
        "id": "6u-hPRAZsPnE"
      },
      "execution_count": null,
      "outputs": []
    },
    {
      "cell_type": "code",
      "source": [
        "final_target_df =combined_dataframe.reset_index() # create a new clonumn for playe index start with 1"
      ],
      "metadata": {
        "id": "C55-G_3PvavM"
      },
      "execution_count": null,
      "outputs": []
    },
    {
      "cell_type": "code",
      "source": [
        "final_target_df['index']=final_target_df['index']+1 # make the playeindex start from 1"
      ],
      "metadata": {
        "id": "XiaajNM2xGEd"
      },
      "execution_count": null,
      "outputs": []
    },
    {
      "cell_type": "code",
      "source": [
        "len(final_target_df)"
      ],
      "metadata": {
        "colab": {
          "base_uri": "https://localhost:8080/"
        },
        "id": "tGLMqLO5qokp",
        "outputId": "69cf6556-ae4b-47c5-d258-448e592fb70b"
      },
      "execution_count": null,
      "outputs": [
        {
          "output_type": "execute_result",
          "data": {
            "text/plain": [
              "605500"
            ]
          },
          "metadata": {},
          "execution_count": 34
        }
      ]
    },
    {
      "cell_type": "code",
      "source": [
        "final_target_df = pd.merge(final_target_df,label_data,how ='left')"
      ],
      "metadata": {
        "id": "5_gioktBhtmn"
      },
      "execution_count": null,
      "outputs": []
    },
    {
      "cell_type": "markdown",
      "source": [
        "# Data Partition"
      ],
      "metadata": {
        "id": "cZzRahw7HXpF"
      }
    },
    {
      "cell_type": "code",
      "source": [
        "grouped = final_target_df.groupby('PlayerKey')"
      ],
      "metadata": {
        "id": "GboX8qKJvXTn"
      },
      "execution_count": null,
      "outputs": []
    },
    {
      "cell_type": "code",
      "source": [
        "y_np = np.array(grouped.first().Label.tolist())\n",
        "print(y_np.shape)"
      ],
      "metadata": {
        "colab": {
          "base_uri": "https://localhost:8080/"
        },
        "id": "a0DBrB_5ss7I",
        "outputId": "d7d463e8-5fd6-45bf-c4be-404ca875f849"
      },
      "execution_count": null,
      "outputs": [
        {
          "output_type": "stream",
          "name": "stdout",
          "text": [
            "(250,)\n"
          ]
        }
      ]
    },
    {
      "cell_type": "code",
      "source": [
        "grouped_data = grouped.apply(lambda x: x.drop(['PlayerKey','PlayKey','Label','index'], axis=1).values.tolist())"
      ],
      "metadata": {
        "id": "Z-ZUofGtsBYn"
      },
      "execution_count": null,
      "outputs": []
    },
    {
      "cell_type": "code",
      "source": [
        "grouped_data"
      ],
      "metadata": {
        "colab": {
          "base_uri": "https://localhost:8080/"
        },
        "id": "dPkwiSqcsM9L",
        "outputId": "9b7c9d64-a194-4dc3-ef4f-cdbb90110838"
      },
      "execution_count": null,
      "outputs": [
        {
          "output_type": "execute_result",
          "data": {
            "text/plain": [
              "PlayerKey\n",
              "26624    [[19.0, 2.0, 9.0, 7.0, 6.0, -0.9778320789337158, 0.10254831612110138, -1.116109013557434], [19.0, 2.0, 9.0, 7.0, 6.0, -0.6735550165176392, -0.21942554414272308, -0.6521428227424622], [19.0, 2.0, 9.0, 11.0, 6.0, -1.2617932558059692, 0.07778115570545197, -1.3931792974472046], [19.0, 2.0, 9.0, 11.0, 6.0, -1.4381723403930664, -1.3174389600753784, -1.14388108253479], [19.0, 2.0, 9.0, 7.0, 6.0, -0.5572001934051514, -0.21942554414272308, -0.5191678404808044], [19.0, 2.0, 9.0, 11.0, 6.0, -0.8767141699790955, -1.1853471994400024, -0.05737427622079849], [19.0, 2.0, 9.0, 7.0, 6.0, -0.626920759677887,...\n",
              "27363    [[14.0, 2.0, 28.0, 11.0, 6.0, -0.49532896280288696, 0.2016172707080841, -0.6852810978889465], [14.0, 2.0, 28.0, 11.0, 6.0, -0.6389256119728088, 0.19336149096488953, -0.8189423680305481], [14.0, 2.0, 28.0, 7.0, 6.0, -0.9750617742538452, -0.483609139919281, -0.8710784316062927], [14.0, 2.0, 28.0, 11.0, 6.0, -0.1430324912071228, 2.1252048015594482, -1.0093096494674683], [14.0, 2.0, 28.0, 7.0, 6.0, -0.575207531452179, -0.26070424914360046, -0.5132074952125549], [14.0, 2.0, 28.0, 11.0, 6.0, -0.4380750060081482, 0.09429270029067993, -0.5755779147148132], [14.0, 2.0, 28.0, 7.0, 6.0, 0.37687030434...\n",
              "30068    [[14.0, 2.0, 22.0, 7.0, 10.0, 0.7051571011543274, 0.35022053122520447, 0.332068532705307], [14.0, 2.0, 22.0, 11.0, 10.0, 0.3814876675605774, 0.32545337080955505, 0.05777702108025551], [14.0, 2.0, 22.0, 7.0, 10.0, 0.841366171836853, 1.3161423206329346, -0.16102555394172668], [14.0, 2.0, 22.0, 11.0, 10.0, -0.36604586243629456, -0.7065142393112183, 0.16753250360488892], [14.0, 2.0, 22.0, 7.0, 10.0, 0.9392518997192383, 2.36462140083313, -0.4938013553619385], [14.0, 2.0, 22.0, 7.0, 10.0, 1.1691913604736328, -0.16163529455661774, 1.3658819198608398], [14.0, 2.0, 22.0, 7.0, 10.0, -0.2312220335006...\n",
              "30953    [[19.0, 2.0, 9.0, 7.0, 3.0, 0.48399075865745544, 0.10254831612110138, 0.33588287234306335], [19.0, 2.0, 9.0, 7.0, 3.0, -0.16334834694862366, -0.21942554414272308, -0.06905757635831833], [19.0, 2.0, 9.0, 11.0, 3.0, -1.0429353713989258, 0.07778115570545197, -1.173582673072815], [19.0, 2.0, 9.0, 11.0, 3.0, -1.183761715888977, -1.3174389600753784, -0.5462259650230408], [19.0, 2.0, 9.0, 7.0, 3.0, -0.3706631362438202, -0.21942554414272308, -0.30598539113998413], [19.0, 2.0, 9.0, 11.0, 3.0, -0.5525829195976257, -1.1853471994400024, 0.6182703375816345], [19.0, 2.0, 9.0, 7.0, 3.0, 0.054124303162097...\n",
              "31070    [[21.0, 1.0, 56.0, 8.0, 7.0, 1.3977452516555786, 0.07778115570545197, 1.275338053703308], [21.0, 1.0, 56.0, 7.0, 7.0, 4.433128833770752, 2.6453163623809814, 1.1345347166061401], [21.0, 1.0, 56.0, 7.0, 7.0, 2.0981826782226562, 1.1097487211227417, 0.8275129795074463], [21.0, 1.0, 56.0, 7.0, 7.0, 1.9319616556167603, 2.0343918800354004, 0.16335029900074005], [21.0, 1.0, 56.0, 7.0, 7.0, 0.02872943878173828, 0.44103386998176575, -0.33058708906173706], [21.0, 1.0, 56.0, 11.0, 7.0, -0.64677494764328, 0.11080408841371536, -0.7909594774246216], [21.0, 1.0, 56.0, 8.0, 7.0, 0.45213159918785095, -0.054...\n",
              "                                                                                                                                                                                                                                                                                                                  ...                                                                                                                                                                                                                                                                                                           \n",
              "47550    [[21.0, 1.0, 47.0, 5.0, 7.0, 2.2011475563049316, -0.07907788455486298, 2.3547098636627197], [21.0, 1.0, 47.0, 9.0, 7.0, 1.1751936674118042, -0.5248878598213196, 2.0187923908233643], [21.0, 1.0, 47.0, 7.0, 7.0, -0.4740896224975586, 0.08603692799806595, -0.6071582436561584], [21.0, 1.0, 47.0, 6.0, 7.0, 1.8516215085983276, -0.8633732795715332, 4.0099358558654785], [21.0, 1.0, 47.0, 6.0, 7.0, 1.5261049270629883, -0.904651939868927, 3.630037784576416], [21.0, 1.0, 47.0, 10.0, 7.0, 1.191815733909607, 0.6556829810142517, 0.5016786456108093], [21.0, 1.0, 47.0, 11.0, 7.0, -0.684174656867981, -0.128...\n",
              "47784    [[4.0, 1.0, 38.0, 9.0, 10.0, 1.124403953552246, 0.011735293082892895, 1.081604242324829], [4.0, 1.0, 38.0, 10.0, 10.0, 3.001779317855835, 0.6309158802032471, 2.001432418823242], [4.0, 1.0, 38.0, 9.0, 10.0, 1.5542701482772827, -0.4588419795036316, 2.370753288269043], [4.0, 1.0, 38.0, 10.0, 10.0, 4.724938869476318, 0.7630075812339783, 3.1861352920532227], [4.0, 1.0, 38.0, 5.0, 10.0, 4.2535176277160645, 1.027191400527954, 2.4497692584991455], [4.0, 1.0, 38.0, 5.0, 10.0, 3.0368707180023193, 0.32545337080955505, 2.4761850833892822], [4.0, 1.0, 38.0, 9.0, 10.0, 1.8562387228012085, 0.135571405291...\n",
              "47813    [[0.0, 2.0, 47.0, 6.0, 1.0, 0.8898472785949707, -0.7312813997268677, 2.085836172103882], [0.0, 2.0, 47.0, 6.0, 1.0, 1.857162356376648, -0.037799183279275894, 1.916874647140503], [0.0, 2.0, 47.0, 9.0, 1.0, 1.5501148700714111, -0.8633732795715332, 3.5168707370758057], [0.0, 2.0, 47.0, 5.0, 1.0, -0.10701795667409897, -1.2431373596191406, 1.725152611732483], [0.0, 2.0, 47.0, 5.0, 1.0, 2.329045534133911, -0.5909338593482971, 3.7607996463775635], [0.0, 2.0, 47.0, 9.0, 1.0, 0.9734196662902832, -1.0862783193588257, 3.356034994125366], [0.0, 2.0, 47.0, 5.0, 1.0, 1.1770405769348145, -1.5651112794876...\n",
              "47820    [[19.0, 1.0, 12.0, 6.0, 1.0, 0.2655944526195526, -0.3515174388885498, 0.5731973052024841], [19.0, 1.0, 12.0, 7.0, 1.0, 0.18248392641544342, 0.2511517405509949, -0.07321224361658096], [19.0, 1.0, 12.0, 5.0, 1.0, 0.25035762786865234, -0.04605495557188988, 0.23186452686786652], [19.0, 1.0, 12.0, 5.0, 1.0, -0.2760094702243805, -1.4577866792678833, 2.1280910968780518], [19.0, 1.0, 12.0, 5.0, 1.0, -0.0206751711666584, -0.15337951481342316, 0.03461065515875816], [19.0, 1.0, 12.0, 6.0, 1.0, -0.10332407057285309, -1.2513930797576904, 1.7602756023406982], [19.0, 1.0, 12.0, 5.0, 1.0, 2.33550953865051...\n",
              "47888    [[14.0, 2.0, 22.0, 6.0, 1.0, 2.0654003620147705, -0.6652355194091797, 3.6281211376190186], [14.0, 2.0, 22.0, 3.0, 1.0, -0.5248794555664062, 0.39975517988204956, -0.7978896498680115], [14.0, 2.0, 22.0, 2.0, 1.0, -1.2927287817001343, -1.044999599456787, -1.0275548696517944], [14.0, 2.0, 22.0, 5.0, 1.0, -0.3471151292324066, -1.6146457195281982, 2.742069959640503], [14.0, 2.0, 22.0, 11.0, 1.0, -0.4750131070613861, -0.5083764791488647, -0.19668999314308167], [14.0, 2.0, 22.0, 7.0, 1.0, -0.004053201992064714, -0.46709775924682617, 0.37512606382369995], [14.0, 2.0, 22.0, 7.0, 1.0, 0.7037720084190...\n",
              "Length: 250, dtype: object"
            ]
          },
          "metadata": {},
          "execution_count": 39
        }
      ]
    },
    {
      "cell_type": "code",
      "source": [
        "grouped_data = [np.array(x) for x in grouped_data]"
      ],
      "metadata": {
        "id": "EqsUfZ1Vr9oC"
      },
      "execution_count": null,
      "outputs": []
    },
    {
      "cell_type": "code",
      "source": [
        "X_np = np.array(grouped_data)\n",
        "X_np.shape"
      ],
      "metadata": {
        "colab": {
          "base_uri": "https://localhost:8080/"
        },
        "id": "HckienYR3uUw",
        "outputId": "4477faa3-9e51-41cf-8689-6d87315bcea1"
      },
      "execution_count": null,
      "outputs": [
        {
          "output_type": "execute_result",
          "data": {
            "text/plain": [
              "(250, 2422, 8)"
            ]
          },
          "metadata": {},
          "execution_count": 41
        }
      ]
    },
    {
      "cell_type": "code",
      "source": [
        "print(X_np.shape,y_np.shape)"
      ],
      "metadata": {
        "colab": {
          "base_uri": "https://localhost:8080/"
        },
        "id": "0aljJallvXYk",
        "outputId": "76294aa5-4425-493f-f910-b1b53189e28f"
      },
      "execution_count": null,
      "outputs": [
        {
          "output_type": "stream",
          "name": "stdout",
          "text": [
            "(250, 2422, 8) (250,)\n"
          ]
        }
      ]
    },
    {
      "cell_type": "code",
      "source": [
        "indices = np.arange(len(X_np))\n",
        "np.random.seed(970525)\n",
        "np.random.shuffle(indices)\n",
        "shuffled_X_np = X_np[indices]\n",
        "shuffled_y_np = y_np[indices]"
      ],
      "metadata": {
        "id": "nJf3CjHNvXay"
      },
      "execution_count": null,
      "outputs": []
    },
    {
      "cell_type": "code",
      "source": [
        "# 70% training 30% validation\n",
        "train_size = int(0.7*len(shuffled_X_np))\n",
        "X_train = shuffled_X_np[:train_size]\n",
        "X_val = shuffled_X_np[train_size:]\n",
        "y_train = shuffled_y_np[:train_size]\n",
        "y_val = shuffled_y_np[train_size:]"
      ],
      "metadata": {
        "id": "0o9FPLngvXdM"
      },
      "execution_count": null,
      "outputs": []
    },
    {
      "cell_type": "markdown",
      "source": [
        "# LSTM Model"
      ],
      "metadata": {
        "id": "mUUuz-6ol_wQ"
      }
    },
    {
      "cell_type": "code",
      "source": [
        "keras.utils.set_random_seed(970525)\n",
        "inputs = keras.Input(shape =(2422,8))\n",
        "x = layers.BatchNormalization()(inputs)\n",
        "x = layers.LSTM(units=128)(x)\n",
        "x = layers.Dropout(rate=0.3)(x)\n",
        "outputs = layers.Dense(units=1,activation ='sigmoid')(x)\n",
        "simple_lstm = keras.Model(inputs=inputs, outputs=outputs)\n",
        "simple_lstm.summary()"
      ],
      "metadata": {
        "colab": {
          "base_uri": "https://localhost:8080/"
        },
        "id": "YytkzdExvXfh",
        "outputId": "42bc3c03-ae05-4297-d8b7-9d2bff4f9752"
      },
      "execution_count": null,
      "outputs": [
        {
          "output_type": "stream",
          "name": "stdout",
          "text": [
            "Model: \"model\"\n",
            "_________________________________________________________________\n",
            " Layer (type)                Output Shape              Param #   \n",
            "=================================================================\n",
            " input_1 (InputLayer)        [(None, 2422, 8)]         0         \n",
            "                                                                 \n",
            " batch_normalization (Batch  (None, 2422, 8)           32        \n",
            " Normalization)                                                  \n",
            "                                                                 \n",
            " lstm (LSTM)                 (None, 128)               70144     \n",
            "                                                                 \n",
            " dropout (Dropout)           (None, 128)               0         \n",
            "                                                                 \n",
            " dense (Dense)               (None, 1)                 129       \n",
            "                                                                 \n",
            "=================================================================\n",
            "Total params: 70305 (274.63 KB)\n",
            "Trainable params: 70289 (274.57 KB)\n",
            "Non-trainable params: 16 (64.00 Byte)\n",
            "_________________________________________________________________\n"
          ]
        }
      ]
    },
    {
      "cell_type": "code",
      "source": [
        "simple_lstm.compile(optimizer = keras.optimizers.Adam(learning_rate=0.01),\n",
        "                    loss='binary_crossentropy',\n",
        "                  metrics=['accuracy'])\n",
        "lstm_res = simple_lstm.fit(x=X_train, y = y_train, epochs =20, validation_data = (X_val,y_val))"
      ],
      "metadata": {
        "colab": {
          "base_uri": "https://localhost:8080/"
        },
        "id": "l6647Fh6tBGQ",
        "outputId": "c59f2296-1510-4c3c-f9da-80f6a8f55621"
      },
      "execution_count": null,
      "outputs": [
        {
          "output_type": "stream",
          "name": "stdout",
          "text": [
            "Epoch 1/20\n",
            "6/6 [==============================] - 6s 214ms/step - loss: 0.7190 - accuracy: 0.5486 - val_loss: 0.6947 - val_accuracy: 0.3733\n",
            "Epoch 2/20\n",
            "6/6 [==============================] - 1s 93ms/step - loss: 0.6819 - accuracy: 0.5657 - val_loss: 0.6782 - val_accuracy: 0.6267\n",
            "Epoch 3/20\n",
            "6/6 [==============================] - 1s 91ms/step - loss: 0.6719 - accuracy: 0.5886 - val_loss: 0.6891 - val_accuracy: 0.6267\n",
            "Epoch 4/20\n",
            "6/6 [==============================] - 0s 88ms/step - loss: 0.7007 - accuracy: 0.5257 - val_loss: 0.6774 - val_accuracy: 0.6267\n",
            "Epoch 5/20\n",
            "6/6 [==============================] - 0s 85ms/step - loss: 0.6808 - accuracy: 0.5886 - val_loss: 0.6754 - val_accuracy: 0.6267\n",
            "Epoch 6/20\n",
            "6/6 [==============================] - 0s 85ms/step - loss: 0.6747 - accuracy: 0.6000 - val_loss: 0.6692 - val_accuracy: 0.6267\n",
            "Epoch 7/20\n",
            "6/6 [==============================] - 0s 85ms/step - loss: 0.6932 - accuracy: 0.5886 - val_loss: 0.6743 - val_accuracy: 0.6267\n",
            "Epoch 8/20\n",
            "6/6 [==============================] - 0s 86ms/step - loss: 0.6771 - accuracy: 0.5886 - val_loss: 0.6746 - val_accuracy: 0.6267\n",
            "Epoch 9/20\n",
            "6/6 [==============================] - 0s 85ms/step - loss: 0.6802 - accuracy: 0.5886 - val_loss: 0.6652 - val_accuracy: 0.6267\n",
            "Epoch 10/20\n",
            "6/6 [==============================] - 0s 85ms/step - loss: 0.7133 - accuracy: 0.5886 - val_loss: 0.6721 - val_accuracy: 0.6267\n",
            "Epoch 11/20\n",
            "6/6 [==============================] - 0s 85ms/step - loss: 0.6851 - accuracy: 0.5886 - val_loss: 0.6701 - val_accuracy: 0.6267\n",
            "Epoch 12/20\n",
            "6/6 [==============================] - 0s 85ms/step - loss: 0.6818 - accuracy: 0.5886 - val_loss: 0.6636 - val_accuracy: 0.6267\n",
            "Epoch 13/20\n",
            "6/6 [==============================] - 0s 85ms/step - loss: 0.6819 - accuracy: 0.5886 - val_loss: 0.6783 - val_accuracy: 0.6267\n",
            "Epoch 14/20\n",
            "6/6 [==============================] - 0s 86ms/step - loss: 0.6886 - accuracy: 0.5886 - val_loss: 0.6531 - val_accuracy: 0.6267\n",
            "Epoch 15/20\n",
            "6/6 [==============================] - 0s 85ms/step - loss: 0.6727 - accuracy: 0.5886 - val_loss: 0.6780 - val_accuracy: 0.6667\n",
            "Epoch 16/20\n",
            "6/6 [==============================] - 0s 85ms/step - loss: 0.7073 - accuracy: 0.4514 - val_loss: 0.6947 - val_accuracy: 0.3733\n",
            "Epoch 17/20\n",
            "6/6 [==============================] - 0s 85ms/step - loss: 0.6817 - accuracy: 0.5543 - val_loss: 0.6631 - val_accuracy: 0.6267\n",
            "Epoch 18/20\n",
            "6/6 [==============================] - 0s 85ms/step - loss: 0.6820 - accuracy: 0.5886 - val_loss: 0.6607 - val_accuracy: 0.6267\n",
            "Epoch 19/20\n",
            "6/6 [==============================] - 0s 87ms/step - loss: 0.6797 - accuracy: 0.5886 - val_loss: 0.6669 - val_accuracy: 0.6267\n",
            "Epoch 20/20\n",
            "6/6 [==============================] - 1s 88ms/step - loss: 0.6743 - accuracy: 0.5886 - val_loss: 0.6720 - val_accuracy: 0.6267\n"
          ]
        }
      ]
    },
    {
      "cell_type": "code",
      "source": [
        "y_pred = simple_lstm.predict(X_val)\n",
        "y_pred_2 = [0 if i < 0.5 else 1 for i in y_pred]"
      ],
      "metadata": {
        "colab": {
          "base_uri": "https://localhost:8080/"
        },
        "id": "9cXWh7tBwIi6",
        "outputId": "afdb43dd-8465-4cd1-b802-c4efe6601415"
      },
      "execution_count": null,
      "outputs": [
        {
          "output_type": "stream",
          "name": "stdout",
          "text": [
            "3/3 [==============================] - 0s 58ms/step\n"
          ]
        }
      ]
    },
    {
      "cell_type": "code",
      "source": [
        "from sklearn.metrics import confusion_matrix\n",
        "from sklearn import metrics\n",
        "from sklearn.metrics import accuracy_score\n",
        "confusion_matrix = metrics.confusion_matrix(y_val, y_pred_2)\n",
        "cm_display = metrics.ConfusionMatrixDisplay(confusion_matrix = confusion_matrix, display_labels = [True, False])\n",
        "cm_display.plot()\n",
        "plt.show()\n",
        "print(f'The accuracy of the model is {round(accuracy_score(y_val,y_pred_2),2)}')"
      ],
      "metadata": {
        "colab": {
          "base_uri": "https://localhost:8080/",
          "height": 466
        },
        "id": "5tEqeIyfwM2n",
        "outputId": "4a029b15-2c17-42d0-ae2e-b482a5caa045"
      },
      "execution_count": null,
      "outputs": [
        {
          "output_type": "display_data",
          "data": {
            "text/plain": [
              "<Figure size 640x480 with 2 Axes>"
            ],
            "image/png": "[encoded data removed]"
          },
          "metadata": {}
        },
        {
          "output_type": "stream",
          "name": "stdout",
          "text": [
            "The accuracy of the model is 0.63\n"
          ]
        }
      ]
    },
    {
      "cell_type": "code",
      "source": [
        "plt.plot(lstm_res.history['accuracy'], label='Training')\n",
        "plt.plot(lstm_res.history['val_accuracy'], label='Validation')\n",
        "plt.legend()"
      ],
      "metadata": {
        "colab": {
          "base_uri": "https://localhost:8080/",
          "height": 447
        },
        "id": "zoXao6ZxOnGI",
        "outputId": "2cfe1726-34de-45f5-a8eb-f48abb7792f3"
      },
      "execution_count": null,
      "outputs": [
        {
          "output_type": "execute_result",
          "data": {
            "text/plain": [
              "<matplotlib.legend.Legend at 0x7c0e940d0b80>"
            ]
          },
          "metadata": {},
          "execution_count": 43
        },
        {
          "output_type": "display_data",
          "data": {
            "text/plain": [
              "<Figure size 640x480 with 1 Axes>"
            ],
            "image/png": "[encoded data removed]"
          },
          "metadata": {}
        }
      ]
    },
    {
      "cell_type": "markdown",
      "source": [
        "# Fine tune with Kears Tunner"
      ],
      "metadata": {
        "id": "EFmhoH0TIzhf"
      }
    },
    {
      "cell_type": "code",
      "source": [
        "def build_model(hp):\n",
        "    inputs = keras.Input(shape=(2422, 8))\n",
        "    x = layers.BatchNormalization()(inputs)\n",
        "    x = layers.LSTM(units=hp.Int('lstm_units', min_value=64, max_value=512, step=32))(x)\n",
        "    x = layers.Dropout(rate=hp.Float('dropout_rate', min_value=0.1, max_value=0.5, step=0.1))(x)\n",
        "    outputs = layers.Dense(units=1, activation='sigmoid')(x)\n",
        "\n",
        "    model = keras.Model(inputs=inputs, outputs=outputs)\n",
        "\n",
        "    model.compile(optimizer=keras.optimizers.Adam(hp.Choice('learning_rate', [0.01, 0.001, 0.0001])),\n",
        "                  loss='binary_crossentropy',\n",
        "                  metrics=['accuracy'])\n",
        "\n",
        "    return model"
      ],
      "metadata": {
        "id": "xid1c-rNCv2D"
      },
      "execution_count": null,
      "outputs": []
    },
    {
      "cell_type": "code",
      "source": [
        "tuner = BayesianOptimization(\n",
        "    build_model,\n",
        "    objective='val_accuracy',\n",
        "    max_trials=5, # The number of models to try\n",
        "    executions_per_trial=3, # The number of times each model will be trained to reduce noise\n",
        "    directory='my_dir4',\n",
        "    project_name='lstm_tuning')"
      ],
      "metadata": {
        "id": "xrPw4abFCxHb"
      },
      "execution_count": null,
      "outputs": []
    },
    {
      "cell_type": "code",
      "source": [
        "tuner.search(X_train, y_train,\n",
        "             epochs=10,\n",
        "             validation_data=(X_val, y_val),\n",
        "             batch_size=32)"
      ],
      "metadata": {
        "colab": {
          "base_uri": "https://localhost:8080/"
        },
        "id": "vz1ZGQJfCxKa",
        "outputId": "e0c9c2db-3e34-4fc5-ddf6-78b4a00167e3"
      },
      "execution_count": null,
      "outputs": [
        {
          "output_type": "stream",
          "name": "stdout",
          "text": [
            "Trial 5 Complete [00h 00m 25s]\n",
            "val_accuracy: 0.6266666650772095\n",
            "\n",
            "Best val_accuracy So Far: 0.6311111052831014\n",
            "Total elapsed time: 00h 03m 08s\n"
          ]
        }
      ]
    },
    {
      "cell_type": "code",
      "source": [
        "best_hyperparameters = tuner.get_best_hyperparameters(num_trials=1)[0] # get best parameters\n",
        "best_model = tuner.hypermodel.build(best_hyperparameters) # build the model"
      ],
      "metadata": {
        "id": "3r79fsYlCxNX"
      },
      "execution_count": null,
      "outputs": []
    },
    {
      "cell_type": "code",
      "source": [
        "best_lstm_units = best_hyperparameters.get('lstm_units')\n",
        "best_dropout_rate = best_hyperparameters.get('dropout_rate')\n",
        "best_learning_rate = best_hyperparameters.get('learning_rate')\n",
        "\n",
        "print(f\"Best LSTM units: {best_lstm_units}\")\n",
        "print(f\"Best dropout rate: {best_dropout_rate}\")\n",
        "print(f\"Best learning rate: {best_learning_rate}\")"
      ],
      "metadata": {
        "colab": {
          "base_uri": "https://localhost:8080/"
        },
        "id": "PW6hLmpELwkr",
        "outputId": "2e59bfb0-ee04-46f6-8ede-d55b91745ac1"
      },
      "execution_count": null,
      "outputs": [
        {
          "output_type": "stream",
          "name": "stdout",
          "text": [
            "Best LSTM units: 224\n",
            "Best dropout rate: 0.4\n",
            "Best learning rate: 0.01\n"
          ]
        }
      ]
    },
    {
      "cell_type": "code",
      "source": [
        "best_res = best_model.fit(X_train, y_train, epochs=50,validation_data = (X_val,y_val))"
      ],
      "metadata": {
        "colab": {
          "base_uri": "https://localhost:8080/"
        },
        "id": "SxWAeWlSCxQL",
        "outputId": "42a56953-d6ec-4911-ecfe-4a4a761d4166"
      },
      "execution_count": null,
      "outputs": [
        {
          "output_type": "stream",
          "name": "stdout",
          "text": [
            "Epoch 1/50\n",
            "6/6 [==============================] - 3s 234ms/step - loss: 0.7952 - accuracy: 0.5314 - val_loss: 0.8280 - val_accuracy: 0.5333\n",
            "Epoch 2/50\n",
            "6/6 [==============================] - 1s 117ms/step - loss: 0.7188 - accuracy: 0.5657 - val_loss: 0.7315 - val_accuracy: 0.3733\n",
            "Epoch 3/50\n",
            "6/6 [==============================] - 1s 117ms/step - loss: 0.6831 - accuracy: 0.5657 - val_loss: 0.6608 - val_accuracy: 0.6267\n",
            "Epoch 4/50\n",
            "6/6 [==============================] - 1s 117ms/step - loss: 0.6739 - accuracy: 0.6114 - val_loss: 0.6685 - val_accuracy: 0.6267\n",
            "Epoch 5/50\n",
            "6/6 [==============================] - 1s 116ms/step - loss: 0.6683 - accuracy: 0.5486 - val_loss: 0.6644 - val_accuracy: 0.6267\n",
            "Epoch 6/50\n",
            "6/6 [==============================] - 1s 116ms/step - loss: 0.6765 - accuracy: 0.5829 - val_loss: 0.7182 - val_accuracy: 0.3733\n",
            "Epoch 7/50\n",
            "6/6 [==============================] - 1s 116ms/step - loss: 0.7362 - accuracy: 0.4971 - val_loss: 0.6609 - val_accuracy: 0.6267\n",
            "Epoch 8/50\n",
            "6/6 [==============================] - 1s 118ms/step - loss: 0.7476 - accuracy: 0.5029 - val_loss: 0.7541 - val_accuracy: 0.3733\n",
            "Epoch 9/50\n",
            "6/6 [==============================] - 1s 117ms/step - loss: 0.7367 - accuracy: 0.5486 - val_loss: 0.6939 - val_accuracy: 0.6267\n",
            "Epoch 10/50\n",
            "6/6 [==============================] - 1s 118ms/step - loss: 0.7242 - accuracy: 0.5771 - val_loss: 0.7149 - val_accuracy: 0.3733\n",
            "Epoch 11/50\n",
            "6/6 [==============================] - 1s 117ms/step - loss: 0.7058 - accuracy: 0.5543 - val_loss: 0.6613 - val_accuracy: 0.6267\n",
            "Epoch 12/50\n",
            "6/6 [==============================] - 1s 117ms/step - loss: 0.7263 - accuracy: 0.5886 - val_loss: 0.6615 - val_accuracy: 0.6267\n",
            "Epoch 13/50\n",
            "6/6 [==============================] - 1s 119ms/step - loss: 0.7126 - accuracy: 0.5029 - val_loss: 0.6926 - val_accuracy: 0.6267\n",
            "Epoch 14/50\n",
            "6/6 [==============================] - 1s 117ms/step - loss: 0.7122 - accuracy: 0.5314 - val_loss: 0.6649 - val_accuracy: 0.6267\n",
            "Epoch 15/50\n",
            "6/6 [==============================] - 1s 117ms/step - loss: 0.6868 - accuracy: 0.5886 - val_loss: 0.6724 - val_accuracy: 0.6267\n",
            "Epoch 16/50\n",
            "6/6 [==============================] - 1s 118ms/step - loss: 0.6753 - accuracy: 0.5600 - val_loss: 0.6627 - val_accuracy: 0.6267\n",
            "Epoch 17/50\n",
            "6/6 [==============================] - 1s 120ms/step - loss: 0.6884 - accuracy: 0.5829 - val_loss: 0.6614 - val_accuracy: 0.6267\n",
            "Epoch 18/50\n",
            "6/6 [==============================] - 1s 118ms/step - loss: 0.6876 - accuracy: 0.5886 - val_loss: 0.6632 - val_accuracy: 0.6267\n",
            "Epoch 19/50\n",
            "6/6 [==============================] - 1s 117ms/step - loss: 0.6699 - accuracy: 0.5714 - val_loss: 0.6685 - val_accuracy: 0.6267\n",
            "Epoch 20/50\n",
            "6/6 [==============================] - 1s 118ms/step - loss: 0.6842 - accuracy: 0.5657 - val_loss: 0.6649 - val_accuracy: 0.6267\n",
            "Epoch 21/50\n",
            "6/6 [==============================] - 1s 121ms/step - loss: 0.6858 - accuracy: 0.5657 - val_loss: 0.6664 - val_accuracy: 0.6267\n",
            "Epoch 22/50\n",
            "6/6 [==============================] - 1s 118ms/step - loss: 0.6990 - accuracy: 0.5429 - val_loss: 0.6607 - val_accuracy: 0.6267\n",
            "Epoch 23/50\n",
            "6/6 [==============================] - 1s 121ms/step - loss: 0.7046 - accuracy: 0.5371 - val_loss: 0.6776 - val_accuracy: 0.6267\n",
            "Epoch 24/50\n",
            "6/6 [==============================] - 1s 122ms/step - loss: 0.7030 - accuracy: 0.5029 - val_loss: 0.6634 - val_accuracy: 0.6267\n",
            "Epoch 25/50\n",
            "6/6 [==============================] - 1s 126ms/step - loss: 0.6874 - accuracy: 0.5771 - val_loss: 0.6630 - val_accuracy: 0.6267\n",
            "Epoch 26/50\n",
            "6/6 [==============================] - 1s 120ms/step - loss: 0.6806 - accuracy: 0.6057 - val_loss: 0.6638 - val_accuracy: 0.6267\n",
            "Epoch 27/50\n",
            "6/6 [==============================] - 1s 124ms/step - loss: 0.6935 - accuracy: 0.5771 - val_loss: 0.6651 - val_accuracy: 0.6267\n",
            "Epoch 28/50\n",
            "6/6 [==============================] - 1s 117ms/step - loss: 0.7119 - accuracy: 0.4343 - val_loss: 0.6719 - val_accuracy: 0.6267\n",
            "Epoch 29/50\n",
            "6/6 [==============================] - 1s 117ms/step - loss: 0.7140 - accuracy: 0.5714 - val_loss: 0.6697 - val_accuracy: 0.6267\n",
            "Epoch 30/50\n",
            "6/6 [==============================] - 1s 117ms/step - loss: 0.6966 - accuracy: 0.5829 - val_loss: 0.7078 - val_accuracy: 0.3733\n",
            "Epoch 31/50\n",
            "6/6 [==============================] - 1s 117ms/step - loss: 0.6965 - accuracy: 0.5200 - val_loss: 0.6607 - val_accuracy: 0.6267\n",
            "Epoch 32/50\n",
            "6/6 [==============================] - 1s 118ms/step - loss: 0.6891 - accuracy: 0.5943 - val_loss: 0.6608 - val_accuracy: 0.6267\n",
            "Epoch 33/50\n",
            "6/6 [==============================] - 1s 117ms/step - loss: 0.6882 - accuracy: 0.5314 - val_loss: 0.6989 - val_accuracy: 0.3733\n",
            "Epoch 34/50\n",
            "6/6 [==============================] - 1s 117ms/step - loss: 0.6854 - accuracy: 0.5543 - val_loss: 0.6607 - val_accuracy: 0.6267\n",
            "Epoch 35/50\n",
            "6/6 [==============================] - 1s 119ms/step - loss: 0.6888 - accuracy: 0.5829 - val_loss: 0.6614 - val_accuracy: 0.6267\n",
            "Epoch 36/50\n",
            "6/6 [==============================] - 1s 119ms/step - loss: 0.6847 - accuracy: 0.5429 - val_loss: 0.6974 - val_accuracy: 0.3733\n",
            "Epoch 37/50\n",
            "6/6 [==============================] - 1s 120ms/step - loss: 0.6870 - accuracy: 0.5657 - val_loss: 0.6644 - val_accuracy: 0.6267\n",
            "Epoch 38/50\n",
            "6/6 [==============================] - 1s 119ms/step - loss: 0.7069 - accuracy: 0.5886 - val_loss: 0.6607 - val_accuracy: 0.6267\n",
            "Epoch 39/50\n",
            "6/6 [==============================] - 1s 118ms/step - loss: 0.6851 - accuracy: 0.5600 - val_loss: 0.6929 - val_accuracy: 0.6267\n",
            "Epoch 40/50\n",
            "6/6 [==============================] - 1s 121ms/step - loss: 0.6899 - accuracy: 0.5771 - val_loss: 0.6613 - val_accuracy: 0.6267\n",
            "Epoch 41/50\n",
            "6/6 [==============================] - 1s 122ms/step - loss: 0.6868 - accuracy: 0.5771 - val_loss: 0.6615 - val_accuracy: 0.6267\n",
            "Epoch 42/50\n",
            "6/6 [==============================] - 1s 118ms/step - loss: 0.6899 - accuracy: 0.5714 - val_loss: 0.6725 - val_accuracy: 0.6267\n",
            "Epoch 43/50\n",
            "6/6 [==============================] - 1s 119ms/step - loss: 0.6850 - accuracy: 0.5829 - val_loss: 0.6612 - val_accuracy: 0.6267\n",
            "Epoch 44/50\n",
            "6/6 [==============================] - 1s 118ms/step - loss: 0.6816 - accuracy: 0.5886 - val_loss: 0.6744 - val_accuracy: 0.6267\n",
            "Epoch 45/50\n",
            "6/6 [==============================] - 1s 119ms/step - loss: 0.6745 - accuracy: 0.5829 - val_loss: 0.6633 - val_accuracy: 0.6267\n",
            "Epoch 46/50\n",
            "6/6 [==============================] - 1s 119ms/step - loss: 0.6675 - accuracy: 0.5829 - val_loss: 0.6609 - val_accuracy: 0.6267\n",
            "Epoch 47/50\n",
            "6/6 [==============================] - 1s 119ms/step - loss: 0.7022 - accuracy: 0.5829 - val_loss: 0.6616 - val_accuracy: 0.6267\n",
            "Epoch 48/50\n",
            "6/6 [==============================] - 1s 119ms/step - loss: 0.6681 - accuracy: 0.5657 - val_loss: 0.6697 - val_accuracy: 0.6267\n",
            "Epoch 49/50\n",
            "6/6 [==============================] - 1s 120ms/step - loss: 0.6853 - accuracy: 0.5600 - val_loss: 0.6628 - val_accuracy: 0.6267\n",
            "Epoch 50/50\n",
            "6/6 [==============================] - 1s 119ms/step - loss: 0.6917 - accuracy: 0.5429 - val_loss: 0.6673 - val_accuracy: 0.6267\n"
          ]
        }
      ]
    },
    {
      "cell_type": "code",
      "source": [
        "y_pred = best_model.predict(X_val)"
      ],
      "metadata": {
        "colab": {
          "base_uri": "https://localhost:8080/"
        },
        "id": "cwO0XNCM7yTc",
        "outputId": "8f128ed1-e9b8-44fa-eba4-093534b04f3f"
      },
      "execution_count": null,
      "outputs": [
        {
          "output_type": "stream",
          "name": "stdout",
          "text": [
            "3/3 [==============================] - 0s 71ms/step\n"
          ]
        }
      ]
    },
    {
      "cell_type": "code",
      "source": [
        "y_pred = (y_pred > 0.5).astype(int)"
      ],
      "metadata": {
        "id": "VhokftUj8MY_"
      },
      "execution_count": null,
      "outputs": []
    },
    {
      "cell_type": "code",
      "source": [
        "from sklearn.metrics import confusion_matrix\n",
        "confusion_matrix(y_val, y_pred)"
      ],
      "metadata": {
        "colab": {
          "base_uri": "https://localhost:8080/"
        },
        "id": "ZrECw0lY8P0M",
        "outputId": "7dd94739-7623-460d-f675-e9d443a6c7c8"
      },
      "execution_count": null,
      "outputs": [
        {
          "output_type": "execute_result",
          "data": {
            "text/plain": [
              "array([[47,  0],\n",
              "       [28,  0]])"
            ]
          },
          "metadata": {},
          "execution_count": 54
        }
      ]
    },
    {
      "cell_type": "code",
      "source": [
        "plt.plot(best_res.history['accuracy'], label='Training')\n",
        "plt.plot(best_res.history['val_accuracy'], label='Validation')\n",
        "plt.legend()"
      ],
      "metadata": {
        "colab": {
          "base_uri": "https://localhost:8080/",
          "height": 451
        },
        "id": "VGCi6eNF5NYT",
        "outputId": "4122c5a3-ab4e-4e38-89f5-f38eaf7afec7"
      },
      "execution_count": null,
      "outputs": [
        {
          "output_type": "execute_result",
          "data": {
            "text/plain": [
              "<matplotlib.legend.Legend at 0x7f4366a542e0>"
            ]
          },
          "metadata": {},
          "execution_count": 562
        },
        {
          "output_type": "display_data",
          "data": {
            "text/plain": [
              "<Figure size 640x480 with 1 Axes>"
            ],
            "image/png": "[encoded data removed]"
          },
          "metadata": {}
        }
      ]
    },
    {
      "cell_type": "code",
      "source": [
        "plt.plot(best_res.history['loss'], label='Training')\n",
        "plt.plot(best_res.history['val_loss'], label='Validation')\n",
        "plt.legend()"
      ],
      "metadata": {
        "colab": {
          "base_uri": "https://localhost:8080/",
          "height": 448
        },
        "id": "HGQtoIJOjAST",
        "outputId": "b6441f4f-ed49-4f9a-da54-44ac473df0db"
      },
      "execution_count": null,
      "outputs": [
        {
          "output_type": "execute_result",
          "data": {
            "text/plain": [
              "<matplotlib.legend.Legend at 0x7f42154afaf0>"
            ]
          },
          "metadata": {},
          "execution_count": 563
        },
        {
          "output_type": "display_data",
          "data": {
            "text/plain": [
              "<Figure size 640x480 with 1 Axes>"
            ],
            "image/png": "[encoded data removed]"
          },
          "metadata": {}
        }
      ]
    },
    {
      "cell_type": "markdown",
      "source": [
        "# RNN Model"
      ],
      "metadata": {
        "id": "wT3tVLflmI_0"
      }
    },
    {
      "cell_type": "code",
      "source": [
        "indices = np.arange(len(X_np))\n",
        "np.random.seed(166)\n",
        "np.random.shuffle(indices)\n",
        "shuffled_X_np = X_np[indices]\n",
        "shuffled_y_np = y_np[indices]\n",
        "train_size = int(0.7*len(shuffled_X_np))\n",
        "X_train = shuffled_X_np[:train_size]\n",
        "X_val = shuffled_X_np[train_size:]\n",
        "y_train = shuffled_y_np[:train_size]\n",
        "y_val = shuffled_y_np[train_size:]"
      ],
      "metadata": {
        "id": "4BJ5y0gJ_knd"
      },
      "execution_count": null,
      "outputs": []
    },
    {
      "cell_type": "code",
      "source": [
        "inputs = keras.Input(shape=(2422,8))\n",
        "x = layers.SimpleRNN(units =64)(inputs)\n",
        "outputs = layers.Dense(units=1, activation='sigmoid')(x)\n",
        "RNN_model = keras.Model(inputs =inputs, outputs =outputs)\n",
        "RNN_model.summary()"
      ],
      "metadata": {
        "colab": {
          "base_uri": "https://localhost:8080/"
        },
        "id": "rblLyNrlvXtD",
        "outputId": "b6451cb2-a725-4e16-cc7b-b252ecbada45"
      },
      "execution_count": null,
      "outputs": [
        {
          "output_type": "stream",
          "name": "stdout",
          "text": [
            "Model: \"model_3\"\n",
            "_________________________________________________________________\n",
            " Layer (type)                Output Shape              Param #   \n",
            "=================================================================\n",
            " input_4 (InputLayer)        [(None, 2422, 8)]         0         \n",
            "                                                                 \n",
            " simple_rnn_2 (SimpleRNN)    (None, 64)                4672      \n",
            "                                                                 \n",
            " dense_3 (Dense)             (None, 1)                 65        \n",
            "                                                                 \n",
            "=================================================================\n",
            "Total params: 4737 (18.50 KB)\n",
            "Trainable params: 4737 (18.50 KB)\n",
            "Non-trainable params: 0 (0.00 Byte)\n",
            "_________________________________________________________________\n"
          ]
        }
      ]
    },
    {
      "cell_type": "code",
      "source": [
        "RNN_model.compile(optimizer ='adam',\n",
        "                  loss= 'binary_crossentropy',\n",
        "                  metrics = ['accuracy'])\n",
        "RNN_model_res = RNN_model.fit(x=X_train,y=y_train, epochs =20,\n",
        "                              validation_data=(X_val,y_val))"
      ],
      "metadata": {
        "colab": {
          "base_uri": "https://localhost:8080/"
        },
        "id": "bJlh9fz9_8Gq",
        "outputId": "23f309fd-e01c-4b75-cf61-7c7f781b6302"
      },
      "execution_count": null,
      "outputs": [
        {
          "output_type": "stream",
          "name": "stdout",
          "text": [
            "Epoch 1/20\n",
            "6/6 [==============================] - 7s 983ms/step - loss: 0.6881 - accuracy: 0.5314 - val_loss: 0.7261 - val_accuracy: 0.4533\n",
            "Epoch 2/20\n",
            "6/6 [==============================] - 6s 932ms/step - loss: 0.6714 - accuracy: 0.5657 - val_loss: 0.7101 - val_accuracy: 0.4667\n",
            "Epoch 3/20\n",
            "6/6 [==============================] - 5s 934ms/step - loss: 0.6898 - accuracy: 0.4743 - val_loss: 0.6624 - val_accuracy: 0.6667\n",
            "Epoch 4/20\n",
            "6/6 [==============================] - 6s 951ms/step - loss: 0.7014 - accuracy: 0.5029 - val_loss: 0.6313 - val_accuracy: 0.6667\n",
            "Epoch 5/20\n",
            "6/6 [==============================] - 5s 869ms/step - loss: 0.6799 - accuracy: 0.5657 - val_loss: 0.6554 - val_accuracy: 0.6667\n",
            "Epoch 6/20\n",
            "6/6 [==============================] - 6s 959ms/step - loss: 0.6768 - accuracy: 0.5657 - val_loss: 0.6725 - val_accuracy: 0.6667\n",
            "Epoch 7/20\n",
            "6/6 [==============================] - 5s 886ms/step - loss: 0.6741 - accuracy: 0.5771 - val_loss: 0.6643 - val_accuracy: 0.6267\n",
            "Epoch 8/20\n",
            "6/6 [==============================] - 5s 914ms/step - loss: 0.6844 - accuracy: 0.5371 - val_loss: 0.6748 - val_accuracy: 0.5600\n",
            "Epoch 9/20\n",
            "6/6 [==============================] - 5s 932ms/step - loss: 0.6916 - accuracy: 0.5429 - val_loss: 0.6722 - val_accuracy: 0.6000\n",
            "Epoch 10/20\n",
            "6/6 [==============================] - 5s 891ms/step - loss: 0.6886 - accuracy: 0.5429 - val_loss: 0.6712 - val_accuracy: 0.6667\n",
            "Epoch 11/20\n",
            "6/6 [==============================] - 6s 942ms/step - loss: 0.6828 - accuracy: 0.5714 - val_loss: 0.6679 - val_accuracy: 0.6667\n",
            "Epoch 12/20\n",
            "6/6 [==============================] - 5s 938ms/step - loss: 0.6779 - accuracy: 0.5657 - val_loss: 0.6727 - val_accuracy: 0.6267\n",
            "Epoch 13/20\n",
            "6/6 [==============================] - 5s 904ms/step - loss: 0.6838 - accuracy: 0.5486 - val_loss: 0.6576 - val_accuracy: 0.6800\n",
            "Epoch 14/20\n",
            "6/6 [==============================] - 5s 904ms/step - loss: 0.6861 - accuracy: 0.5486 - val_loss: 0.6776 - val_accuracy: 0.5867\n",
            "Epoch 15/20\n",
            "6/6 [==============================] - 5s 947ms/step - loss: 0.6875 - accuracy: 0.5314 - val_loss: 0.6544 - val_accuracy: 0.6800\n",
            "Epoch 16/20\n",
            "6/6 [==============================] - 5s 871ms/step - loss: 0.6841 - accuracy: 0.5429 - val_loss: 0.6694 - val_accuracy: 0.6133\n",
            "Epoch 17/20\n",
            "6/6 [==============================] - 5s 856ms/step - loss: 0.6895 - accuracy: 0.5600 - val_loss: 0.6620 - val_accuracy: 0.6667\n",
            "Epoch 18/20\n",
            "6/6 [==============================] - 6s 928ms/step - loss: 0.6807 - accuracy: 0.5714 - val_loss: 0.6599 - val_accuracy: 0.6667\n",
            "Epoch 19/20\n",
            "6/6 [==============================] - 5s 866ms/step - loss: 0.6813 - accuracy: 0.5714 - val_loss: 0.6589 - val_accuracy: 0.6667\n",
            "Epoch 20/20\n",
            "6/6 [==============================] - 6s 951ms/step - loss: 0.6768 - accuracy: 0.5714 - val_loss: 0.6721 - val_accuracy: 0.6667\n"
          ]
        }
      ]
    },
    {
      "cell_type": "code",
      "source": [
        "y_pred = RNN_model.predict(X_val)\n",
        "y_pred_2 = [0 if i < 0.5 else 1 for i in y_pred]"
      ],
      "metadata": {
        "colab": {
          "base_uri": "https://localhost:8080/"
        },
        "id": "E9abQfho9lHO",
        "outputId": "e14b46eb-e67a-4590-92ae-85a21495e7cf"
      },
      "execution_count": null,
      "outputs": [
        {
          "output_type": "stream",
          "name": "stdout",
          "text": [
            "3/3 [==============================] - 1s 145ms/step\n"
          ]
        }
      ]
    },
    {
      "cell_type": "code",
      "source": [
        "confusion_matrix = metrics.confusion_matrix(y_val, y_pred_2)\n",
        "cm_display = metrics.ConfusionMatrixDisplay(confusion_matrix = confusion_matrix, display_labels = [True, False])\n",
        "cm_display.plot()\n",
        "plt.show()\n",
        "print(f'The accuracy of the model is {round(accuracy_score(y_val,y_pred_2),2)}')"
      ],
      "metadata": {
        "colab": {
          "base_uri": "https://localhost:8080/",
          "height": 466
        },
        "id": "WQTsLg4L9npa",
        "outputId": "e41217dd-c192-43d5-b513-420fc93f4547"
      },
      "execution_count": null,
      "outputs": [
        {
          "output_type": "display_data",
          "data": {
            "text/plain": [
              "<Figure size 640x480 with 2 Axes>"
            ],
            "image/png": "[encoded data removed]"
          },
          "metadata": {}
        },
        {
          "output_type": "stream",
          "name": "stdout",
          "text": [
            "The accuracy of the model is 0.63\n"
          ]
        }
      ]
    },
    {
      "cell_type": "code",
      "source": [
        "plt.plot(RNN_model_res.history['accuracy'], label='Training')\n",
        "plt.plot(RNN_model_res.history['val_accuracy'], label='Validation')\n",
        "plt.legend()"
      ],
      "metadata": {
        "colab": {
          "base_uri": "https://localhost:8080/",
          "height": 447
        },
        "id": "e_H_0td6vXz9",
        "outputId": "731c25d1-3339-4ca8-ec79-ab89fdc6a34c"
      },
      "execution_count": null,
      "outputs": [
        {
          "output_type": "execute_result",
          "data": {
            "text/plain": [
              "<matplotlib.legend.Legend at 0x7c0ec81a5f60>"
            ]
          },
          "metadata": {},
          "execution_count": 61
        },
        {
          "output_type": "display_data",
          "data": {
            "text/plain": [
              "<Figure size 640x480 with 1 Axes>"
            ],
            "image/png": "[encoded data removed]"
          },
          "metadata": {}
        }
      ]
    },
    {
      "cell_type": "markdown",
      "source": [
        "# Possible Reasons for not improving accuracy"
      ],
      "metadata": {
        "id": "rwdWZoImO-6x"
      }
    },
    {
      "cell_type": "code",
      "source": [
        "plt.hist(norm_target_df.PlayerKey.value_counts(), bins= 10)"
      ],
      "metadata": {
        "colab": {
          "base_uri": "https://localhost:8080/",
          "height": 502
        },
        "id": "_kmlWAtDunGS",
        "outputId": "4438e7b5-3a44-46d1-f8e9-f439025a386c"
      },
      "execution_count": null,
      "outputs": [
        {
          "output_type": "execute_result",
          "data": {
            "text/plain": [
              "(array([28., 36., 26., 27., 31., 25., 26., 28., 14.,  9.]),\n",
              " array([  24. ,  263.8,  503.6,  743.4,  983.2, 1223. , 1462.8, 1702.6,\n",
              "        1942.4, 2182.2, 2422. ]),\n",
              " <BarContainer object of 10 artists>)"
            ]
          },
          "metadata": {},
          "execution_count": 446
        },
        {
          "output_type": "display_data",
          "data": {
            "text/plain": [
              "<Figure size 640x480 with 1 Axes>"
            ],
            "image/png": "[encoded data removed]"
          },
          "metadata": {}
        }
      ]
    },
    {
      "cell_type": "markdown",
      "source": [
        "The majority of the player's total number of plays is around 1000 plays, so by padding them to meet the maximam plays(2422) would be too much"
      ],
      "metadata": {
        "id": "03dve90URdRn"
      }
    },
    {
      "cell_type": "code",
      "source": [
        "test = injury_df.groupby('PlayerKey').count().reset_index()"
      ],
      "metadata": {
        "id": "6v7cCzpSdNLl"
      },
      "execution_count": null,
      "outputs": []
    },
    {
      "cell_type": "code",
      "source": [
        "duplicate_player_keys = test[test['PlayerKey'].duplicated(keep=False)]\n",
        "print(duplicate_player_keys)"
      ],
      "metadata": {
        "colab": {
          "base_uri": "https://localhost:8080/"
        },
        "id": "1FGMFiFMlm3n",
        "outputId": "e0bf473f-e7ce-4199-9635-3e52bca78400"
      },
      "execution_count": null,
      "outputs": [
        {
          "output_type": "stream",
          "name": "stdout",
          "text": [
            "Empty DataFrame\n",
            "Columns: [PlayerKey, GameID, PlayKey, BodyPart, Surface, DM_M1, DM_M7, DM_M28, DM_M42]\n",
            "Index: []\n"
          ]
        }
      ]
    },
    {
      "cell_type": "code",
      "source": [
        "injured_players = pd.merge(play_df, test, on='PlayerKey', how='right')"
      ],
      "metadata": {
        "id": "y1DzrMZ6IkNO"
      },
      "execution_count": null,
      "outputs": []
    },
    {
      "cell_type": "code",
      "source": [
        "healthy_players = pd.merge(play_df, test, on='PlayerKey', how='left',indicator = True)"
      ],
      "metadata": {
        "id": "PEbNSUovKuH9"
      },
      "execution_count": null,
      "outputs": []
    },
    {
      "cell_type": "code",
      "source": [
        "healthy_players = healthy_players[healthy_players['_merge'] == 'left_only']\n",
        "healthy_players = healthy_players.drop(columns=['_merge'])"
      ],
      "metadata": {
        "id": "6JU5-y3uKuPE"
      },
      "execution_count": null,
      "outputs": []
    },
    {
      "cell_type": "code",
      "source": [
        "plt.hist(injured_players.groupby('PlayerKey').count().GameID_x.values,color = 'red',bins =20)\n",
        "plt.hist(healthy_players.groupby('PlayerKey').count().PlayerDay.values,alpha = 0.8,bins =20)"
      ],
      "metadata": {
        "colab": {
          "base_uri": "https://localhost:8080/",
          "height": 538
        },
        "id": "dmpjA_NXgEEG",
        "outputId": "49a45d2b-a5c7-4b54-c6b0-168fb45f8f7e"
      },
      "execution_count": null,
      "outputs": [
        {
          "output_type": "execute_result",
          "data": {
            "text/plain": [
              "(array([ 5.,  8., 11., 10.,  5.,  5.,  8.,  5., 10.,  9.,  7., 11.,  7.,\n",
              "        11., 11.,  9.,  5.,  6.,  4.,  3.]),\n",
              " array([  40. ,  159.1,  278.2,  397.3,  516.4,  635.5,  754.6,  873.7,\n",
              "         992.8, 1111.9, 1231. , 1350.1, 1469.2, 1588.3, 1707.4, 1826.5,\n",
              "        1945.6, 2064.7, 2183.8, 2302.9, 2422. ]),\n",
              " <BarContainer object of 20 artists>)"
            ]
          },
          "metadata": {},
          "execution_count": 456
        },
        {
          "output_type": "display_data",
          "data": {
            "text/plain": [
              "<Figure size 640x480 with 1 Axes>"
            ],
            "image/png": "[encoded data removed]"
          },
          "metadata": {}
        }
      ]
    },
    {
      "cell_type": "code",
      "source": [
        "print(injured_players.groupby('PlayerKey').count().GameID_x.values.mean())\n",
        "print(healthy_players.groupby('PlayerKey').count().PlayerDay.values.mean())"
      ],
      "metadata": {
        "colab": {
          "base_uri": "https://localhost:8080/"
        },
        "id": "AFeWH3XIE12b",
        "outputId": "8b512914-6b13-4155-a21d-7f5283cbbf1a"
      },
      "execution_count": null,
      "outputs": [
        {
          "output_type": "stream",
          "name": "stdout",
          "text": [
            "897.49\n",
            "1181.7066666666667\n"
          ]
        }
      ]
    },
    {
      "cell_type": "code",
      "source": [
        "6800*7.155"
      ],
      "metadata": {
        "colab": {
          "base_uri": "https://localhost:8080/"
        },
        "id": "w55zC3J_h0Pz",
        "outputId": "fd9fa118-ba8a-4342-8620-75108a630e6b"
      },
      "execution_count": null,
      "outputs": [
        {
          "output_type": "execute_result",
          "data": {
            "text/plain": [
              "48654.0"
            ]
          },
          "metadata": {},
          "execution_count": 1
        }
      ]
    }
  ]
}